{
 "cells": [
  {
   "cell_type": "code",
   "execution_count": 4,
   "id": "fbc8e1e9",
   "metadata": {},
   "outputs": [],
   "source": [
    "import numpy as np\n",
    "import pandas as pd\n",
    "import matplotlib.pyplot as plt\n",
    "import seaborn as sns\n",
    "import plotly.graph_objects as go"
   ]
  },
  {
   "cell_type": "markdown",
   "id": "930a7144",
   "metadata": {},
   "source": [
    "# Categorical data\n",
    "1. if the comtains a finite number of distincts group(or categories)\n",
    "2. The categories are usually fixed or known\n",
    "3. Known as qualitative data"
   ]
  },
  {
   "cell_type": "markdown",
   "id": "46090d5e",
   "metadata": {},
   "source": [
    "# Numerical Data\n",
    "1. Known as quantitative data\n",
    "2. Expressed using a numerical value\n",
    "3. Is usually a measurement(height, weight, IQ, etc)"
   ]
  },
  {
   "cell_type": "markdown",
   "id": "fc8c4988",
   "metadata": {},
   "source": [
    "# Categorical data can be further broken down into two categories such as\n",
    "1. Ordinal\n",
    "\n",
    "categorical variables that have a natural order such as survey data\n",
    "1. strongly disagree - 1\n",
    "2. Disagree - 2\n",
    "3. Neutral - 3\n",
    "4. Agree - 4\n",
    "5. Strongly agree- 5\n",
    "\n",
    "\n",
    "\n",
    "\n",
    "2. Nominal\n",
    "\n",
    "  Categorical variables that can not be placed into a natural order. Ex- when a survey ask what is your favorite color?\n",
    "\n",
    "Blue, Green, Red, Yellow, Purple\n"
   ]
  },
  {
   "cell_type": "markdown",
   "id": "22081a46",
   "metadata": {},
   "source": [
    "# The adult census dataset cotains information whether or not an adult makes over 50,000$ annually."
   ]
  },
  {
   "cell_type": "code",
   "execution_count": 6,
   "id": "1a07562e",
   "metadata": {},
   "outputs": [
    {
     "name": "stdout",
     "output_type": "stream",
     "text": [
      "<class 'pandas.core.frame.DataFrame'>\n",
      "RangeIndex: 32561 entries, 0 to 32560\n",
      "Data columns (total 15 columns):\n",
      " #   Column           Non-Null Count  Dtype \n",
      "---  ------           --------------  ----- \n",
      " 0   Age              32561 non-null  int64 \n",
      " 1   Workclass        32561 non-null  object\n",
      " 2   fnlgwt           32561 non-null  int64 \n",
      " 3   Education        32561 non-null  object\n",
      " 4   Education Num    32561 non-null  int64 \n",
      " 5   Marital Status   32561 non-null  object\n",
      " 6   Occupation       32561 non-null  object\n",
      " 7   Relationship     32561 non-null  object\n",
      " 8   Race             32561 non-null  object\n",
      " 9   Sex              32561 non-null  object\n",
      " 10  Capital Gain     32561 non-null  int64 \n",
      " 11  Capital Loss     32561 non-null  int64 \n",
      " 12  Hours/Week       32561 non-null  int64 \n",
      " 13  Country          32561 non-null  object\n",
      " 14  Above/Below 50k  32561 non-null  object\n",
      "dtypes: int64(6), object(9)\n",
      "memory usage: 3.7+ MB\n"
     ]
    }
   ],
   "source": [
    "adult = pd.read_csv('/Users/mishudhar/Downloads/Categorcal_Python/adult.csv')\n",
    "adult.info()"
   ]
  },
  {
   "cell_type": "markdown",
   "id": "ea714761",
   "metadata": {},
   "source": [
    "When the datatype is object that is good indicator od categorical data. Let's have a look on 'Marital Status' column;"
   ]
  },
  {
   "cell_type": "code",
   "execution_count": 9,
   "id": "cba07eea",
   "metadata": {},
   "outputs": [
    {
     "data": {
      "text/plain": [
       "count                   32561\n",
       "unique                      7\n",
       "top        Married-civ-spouse\n",
       "freq                    14976\n",
       "Name: Marital Status, dtype: object"
      ]
     },
     "execution_count": 9,
     "metadata": {},
     "output_type": "execute_result"
    }
   ],
   "source": [
    "adult['Marital Status'].describe()"
   ]
  },
  {
   "cell_type": "code",
   "execution_count": 10,
   "id": "741b8553",
   "metadata": {},
   "outputs": [
    {
     "data": {
      "text/plain": [
       " Married-civ-spouse       14976\n",
       " Never-married            10683\n",
       " Divorced                  4443\n",
       " Separated                 1025\n",
       " Widowed                    993\n",
       " Married-spouse-absent      418\n",
       " Married-AF-spouse           23\n",
       "Name: Marital Status, dtype: int64"
      ]
     },
     "execution_count": 10,
     "metadata": {},
     "output_type": "execute_result"
    }
   ],
   "source": [
    "adult['Marital Status'].value_counts()"
   ]
  },
  {
   "cell_type": "code",
   "execution_count": 11,
   "id": "93fe777c",
   "metadata": {},
   "outputs": [
    {
     "data": {
      "text/plain": [
       " Married-civ-spouse       0.459937\n",
       " Never-married            0.328092\n",
       " Divorced                 0.136452\n",
       " Separated                0.031479\n",
       " Widowed                  0.030497\n",
       " Married-spouse-absent    0.012837\n",
       " Married-AF-spouse        0.000706\n",
       "Name: Marital Status, dtype: float64"
      ]
     },
     "execution_count": 11,
     "metadata": {},
     "output_type": "execute_result"
    }
   ],
   "source": [
    "adult['Marital Status'].value_counts(normalize = True)"
   ]
  },
  {
   "cell_type": "code",
   "execution_count": 13,
   "id": "61911ab3",
   "metadata": {},
   "outputs": [
    {
     "name": "stdout",
     "output_type": "stream",
     "text": [
      " <=50K    24720\n",
      " >50K      7841\n",
      "Name: Above/Below 50k, dtype: int64\n"
     ]
    }
   ],
   "source": [
    "print(adult['Above/Below 50k'].value_counts())"
   ]
  },
  {
   "cell_type": "code",
   "execution_count": 14,
   "id": "aedd1d52",
   "metadata": {},
   "outputs": [
    {
     "name": "stdout",
     "output_type": "stream",
     "text": [
      " <=50K    0.75919\n",
      " >50K     0.24081\n",
      "Name: Above/Below 50k, dtype: float64\n"
     ]
    }
   ],
   "source": [
    "# Relative frequency\n",
    "print(adult['Above/Below 50k'].value_counts(normalize = True))"
   ]
  },
  {
   "cell_type": "code",
   "execution_count": 15,
   "id": "a26ca799",
   "metadata": {},
   "outputs": [],
   "source": [
    "# convering object to categorical data\n",
    "adult['Marital Status'] = adult['Marital Status'].astype('category')"
   ]
  },
  {
   "cell_type": "code",
   "execution_count": 16,
   "id": "7ea9a610",
   "metadata": {},
   "outputs": [
    {
     "data": {
      "text/plain": [
       "CategoricalDtype(categories=[' Divorced', ' Married-AF-spouse', ' Married-civ-spouse',\n",
       "                  ' Married-spouse-absent', ' Never-married', ' Separated',\n",
       "                  ' Widowed'],\n",
       ", ordered=False)"
      ]
     },
     "execution_count": 16,
     "metadata": {},
     "output_type": "execute_result"
    }
   ],
   "source": [
    "adult['Marital Status'].dtypes"
   ]
  },
  {
   "cell_type": "code",
   "execution_count": 20,
   "id": "a8d0e5a1",
   "metadata": {},
   "outputs": [
    {
     "data": {
      "text/plain": [
       "['Gold', 'Bronze', 'Silver', 'Gold', 'Bronze']\n",
       "Categories (3, object): ['Bronze' < 'Silver' < 'Gold']"
      ]
     },
     "execution_count": 20,
     "metadata": {},
     "output_type": "execute_result"
    }
   ],
   "source": [
    "medals_won = ['Gold', 'Bronze', 'Silver', 'Gold', 'Bronze']\n",
    "medal = pd.Categorical(medals_won, categories = ['Bronze', 'Silver', 'Gold'], ordered = True)\n",
    "medal"
   ]
  },
  {
   "cell_type": "code",
   "execution_count": 22,
   "id": "13cc8165",
   "metadata": {},
   "outputs": [],
   "source": [
    "# Create a dictionary with column names as keys and \"category\" as values\n",
    "adult_dtypes = {'Workclass': 'category', 'Education': 'category',\n",
    "                'Relationship': 'category', 'Above/Below 50k': 'category'}"
   ]
  },
  {
   "cell_type": "code",
   "execution_count": 24,
   "id": "67e1ef43",
   "metadata": {},
   "outputs": [
    {
     "data": {
      "text/plain": [
       "Age                   int64\n",
       "Workclass          category\n",
       "fnlgwt                int64\n",
       "Education          category\n",
       "Education Num         int64\n",
       "Marital Status       object\n",
       "Occupation           object\n",
       "Relationship       category\n",
       "Race                 object\n",
       "Sex                  object\n",
       "Capital Gain          int64\n",
       "Capital Loss          int64\n",
       "Hours/Week            int64\n",
       "Country              object\n",
       "Above/Below 50k    category\n",
       "dtype: object"
      ]
     },
     "execution_count": 24,
     "metadata": {},
     "output_type": "execute_result"
    }
   ],
   "source": [
    "adult_2 = pd.read_csv('/Users/mishudhar/Downloads/Categorcal_Python/adult.csv', dtype = adult_dtypes)\n",
    "adult_2.dtypes"
   ]
  },
  {
   "cell_type": "markdown",
   "id": "30adad46",
   "metadata": {},
   "source": [
    "# Group BY"
   ]
  },
  {
   "cell_type": "code",
   "execution_count": 25,
   "id": "b70fea6a",
   "metadata": {},
   "outputs": [],
   "source": [
    "adult1 = adult_2[adult_2['Above/Below 50k'] == \" <=50k\"]\n",
    "adult2 = adult_2[adult_2['Above/Below 50k'] == ' >50k']"
   ]
  },
  {
   "cell_type": "markdown",
   "id": "5357b336",
   "metadata": {},
   "source": [
    "This can be replace by using a oneliner"
   ]
  },
  {
   "cell_type": "code",
   "execution_count": 29,
   "id": "bf4d38b1",
   "metadata": {},
   "outputs": [
    {
     "data": {
      "text/html": [
       "<div>\n",
       "<style scoped>\n",
       "    .dataframe tbody tr th:only-of-type {\n",
       "        vertical-align: middle;\n",
       "    }\n",
       "\n",
       "    .dataframe tbody tr th {\n",
       "        vertical-align: top;\n",
       "    }\n",
       "\n",
       "    .dataframe thead th {\n",
       "        text-align: right;\n",
       "    }\n",
       "</style>\n",
       "<table border=\"1\" class=\"dataframe\">\n",
       "  <thead>\n",
       "    <tr style=\"text-align: right;\">\n",
       "      <th></th>\n",
       "      <th>Age</th>\n",
       "      <th>fnlgwt</th>\n",
       "      <th>Education Num</th>\n",
       "      <th>Capital Gain</th>\n",
       "      <th>Capital Loss</th>\n",
       "      <th>Hours/Week</th>\n",
       "    </tr>\n",
       "    <tr>\n",
       "      <th>Above/Below 50k</th>\n",
       "      <th></th>\n",
       "      <th></th>\n",
       "      <th></th>\n",
       "      <th></th>\n",
       "      <th></th>\n",
       "      <th></th>\n",
       "    </tr>\n",
       "  </thead>\n",
       "  <tbody>\n",
       "    <tr>\n",
       "      <th>&lt;=50K</th>\n",
       "      <td>36.783738</td>\n",
       "      <td>190340.86517</td>\n",
       "      <td>9.595065</td>\n",
       "      <td>148.752468</td>\n",
       "      <td>53.142921</td>\n",
       "      <td>38.840210</td>\n",
       "    </tr>\n",
       "    <tr>\n",
       "      <th>&gt;50K</th>\n",
       "      <td>44.249841</td>\n",
       "      <td>188005.00000</td>\n",
       "      <td>11.611657</td>\n",
       "      <td>4006.142456</td>\n",
       "      <td>195.001530</td>\n",
       "      <td>45.473026</td>\n",
       "    </tr>\n",
       "  </tbody>\n",
       "</table>\n",
       "</div>"
      ],
      "text/plain": [
       "                       Age        fnlgwt  Education Num  Capital Gain  \\\n",
       "Above/Below 50k                                                         \n",
       " <=50K           36.783738  190340.86517       9.595065    148.752468   \n",
       " >50K            44.249841  188005.00000      11.611657   4006.142456   \n",
       "\n",
       "                 Capital Loss  Hours/Week  \n",
       "Above/Below 50k                            \n",
       " <=50K              53.142921   38.840210  \n",
       " >50K              195.001530   45.473026  "
      ]
     },
     "execution_count": 29,
     "metadata": {},
     "output_type": "execute_result"
    }
   ],
   "source": [
    "groupby_object = adult_2.groupby('Above/Below 50k')\n",
    "groupby_object.mean()"
   ]
  },
  {
   "cell_type": "code",
   "execution_count": 30,
   "id": "ee80a9ff",
   "metadata": {},
   "outputs": [
    {
     "data": {
      "text/html": [
       "<div>\n",
       "<style scoped>\n",
       "    .dataframe tbody tr th:only-of-type {\n",
       "        vertical-align: middle;\n",
       "    }\n",
       "\n",
       "    .dataframe tbody tr th {\n",
       "        vertical-align: top;\n",
       "    }\n",
       "\n",
       "    .dataframe thead th {\n",
       "        text-align: right;\n",
       "    }\n",
       "</style>\n",
       "<table border=\"1\" class=\"dataframe\">\n",
       "  <thead>\n",
       "    <tr style=\"text-align: right;\">\n",
       "      <th></th>\n",
       "      <th>Age</th>\n",
       "      <th>fnlgwt</th>\n",
       "      <th>Education Num</th>\n",
       "      <th>Capital Gain</th>\n",
       "      <th>Capital Loss</th>\n",
       "      <th>Hours/Week</th>\n",
       "    </tr>\n",
       "    <tr>\n",
       "      <th>Above/Below 50k</th>\n",
       "      <th></th>\n",
       "      <th></th>\n",
       "      <th></th>\n",
       "      <th></th>\n",
       "      <th></th>\n",
       "      <th></th>\n",
       "    </tr>\n",
       "  </thead>\n",
       "  <tbody>\n",
       "    <tr>\n",
       "      <th>&lt;=50K</th>\n",
       "      <td>36.783738</td>\n",
       "      <td>190340.86517</td>\n",
       "      <td>9.595065</td>\n",
       "      <td>148.752468</td>\n",
       "      <td>53.142921</td>\n",
       "      <td>38.840210</td>\n",
       "    </tr>\n",
       "    <tr>\n",
       "      <th>&gt;50K</th>\n",
       "      <td>44.249841</td>\n",
       "      <td>188005.00000</td>\n",
       "      <td>11.611657</td>\n",
       "      <td>4006.142456</td>\n",
       "      <td>195.001530</td>\n",
       "      <td>45.473026</td>\n",
       "    </tr>\n",
       "  </tbody>\n",
       "</table>\n",
       "</div>"
      ],
      "text/plain": [
       "                       Age        fnlgwt  Education Num  Capital Gain  \\\n",
       "Above/Below 50k                                                         \n",
       " <=50K           36.783738  190340.86517       9.595065    148.752468   \n",
       " >50K            44.249841  188005.00000      11.611657   4006.142456   \n",
       "\n",
       "                 Capital Loss  Hours/Week  \n",
       "Above/Below 50k                            \n",
       " <=50K              53.142921   38.840210  \n",
       " >50K              195.001530   45.473026  "
      ]
     },
     "execution_count": 30,
     "metadata": {},
     "output_type": "execute_result"
    }
   ],
   "source": [
    "adult_2.groupby('Above/Below 50k').mean()"
   ]
  },
  {
   "cell_type": "markdown",
   "id": "252af790",
   "metadata": {},
   "source": [
    "# Specifying columns"
   ]
  },
  {
   "cell_type": "code",
   "execution_count": 33,
   "id": "05e90a19",
   "metadata": {},
   "outputs": [
    {
     "data": {
      "text/html": [
       "<div>\n",
       "<style scoped>\n",
       "    .dataframe tbody tr th:only-of-type {\n",
       "        vertical-align: middle;\n",
       "    }\n",
       "\n",
       "    .dataframe tbody tr th {\n",
       "        vertical-align: top;\n",
       "    }\n",
       "\n",
       "    .dataframe thead th {\n",
       "        text-align: right;\n",
       "    }\n",
       "</style>\n",
       "<table border=\"1\" class=\"dataframe\">\n",
       "  <thead>\n",
       "    <tr style=\"text-align: right;\">\n",
       "      <th></th>\n",
       "      <th>Age</th>\n",
       "      <th>Education Num</th>\n",
       "    </tr>\n",
       "    <tr>\n",
       "      <th>Above/Below 50k</th>\n",
       "      <th></th>\n",
       "      <th></th>\n",
       "    </tr>\n",
       "  </thead>\n",
       "  <tbody>\n",
       "    <tr>\n",
       "      <th>&lt;=50K</th>\n",
       "      <td>909294</td>\n",
       "      <td>237190</td>\n",
       "    </tr>\n",
       "    <tr>\n",
       "      <th>&gt;50K</th>\n",
       "      <td>346963</td>\n",
       "      <td>91047</td>\n",
       "    </tr>\n",
       "  </tbody>\n",
       "</table>\n",
       "</div>"
      ],
      "text/plain": [
       "                    Age  Education Num\n",
       "Above/Below 50k                       \n",
       " <=50K           909294         237190\n",
       " >50K            346963          91047"
      ]
     },
     "execution_count": 33,
     "metadata": {},
     "output_type": "execute_result"
    }
   ],
   "source": [
    "adult_2.groupby('Above/Below 50k')[['Age', 'Education Num']].sum()"
   ]
  },
  {
   "cell_type": "code",
   "execution_count": 32,
   "id": "4ae84471",
   "metadata": {},
   "outputs": [
    {
     "data": {
      "text/html": [
       "<div>\n",
       "<style scoped>\n",
       "    .dataframe tbody tr th:only-of-type {\n",
       "        vertical-align: middle;\n",
       "    }\n",
       "\n",
       "    .dataframe tbody tr th {\n",
       "        vertical-align: top;\n",
       "    }\n",
       "\n",
       "    .dataframe thead th {\n",
       "        text-align: right;\n",
       "    }\n",
       "</style>\n",
       "<table border=\"1\" class=\"dataframe\">\n",
       "  <thead>\n",
       "    <tr style=\"text-align: right;\">\n",
       "      <th></th>\n",
       "      <th>Age</th>\n",
       "      <th>Education Num</th>\n",
       "    </tr>\n",
       "    <tr>\n",
       "      <th>Above/Below 50k</th>\n",
       "      <th></th>\n",
       "      <th></th>\n",
       "    </tr>\n",
       "  </thead>\n",
       "  <tbody>\n",
       "    <tr>\n",
       "      <th>&lt;=50K</th>\n",
       "      <td>909294</td>\n",
       "      <td>237190</td>\n",
       "    </tr>\n",
       "    <tr>\n",
       "      <th>&gt;50K</th>\n",
       "      <td>346963</td>\n",
       "      <td>91047</td>\n",
       "    </tr>\n",
       "  </tbody>\n",
       "</table>\n",
       "</div>"
      ],
      "text/plain": [
       "                    Age  Education Num\n",
       "Above/Below 50k                       \n",
       " <=50K           909294         237190\n",
       " >50K            346963          91047"
      ]
     },
     "execution_count": 32,
     "metadata": {},
     "output_type": "execute_result"
    }
   ],
   "source": [
    "# we will get the same result \n",
    "adult_2.groupby('Above/Below 50k').sum()[['Age', 'Education Num']]"
   ]
  },
  {
   "cell_type": "markdown",
   "id": "c0ef1033",
   "metadata": {},
   "source": [
    "# Groupby By multiple columns"
   ]
  },
  {
   "cell_type": "code",
   "execution_count": 35,
   "id": "53fd4ce2",
   "metadata": {},
   "outputs": [
    {
     "data": {
      "text/plain": [
       "Above/Below 50k  Marital Status        \n",
       " <=50K            Divorced                  3980\n",
       "                  Married-AF-spouse           13\n",
       "                  Married-civ-spouse        8284\n",
       "                  Married-spouse-absent      384\n",
       "                  Never-married            10192\n",
       "                  Separated                  959\n",
       "                  Widowed                    908\n",
       " >50K             Divorced                   463\n",
       "                  Married-AF-spouse           10\n",
       "                  Married-civ-spouse        6692\n",
       "                  Married-spouse-absent       34\n",
       "                  Never-married              491\n",
       "                  Separated                   66\n",
       "                  Widowed                     85\n",
       "dtype: int64"
      ]
     },
     "execution_count": 35,
     "metadata": {},
     "output_type": "execute_result"
    }
   ],
   "source": [
    "adult_2.groupby(by = ['Above/Below 50k', 'Marital Status']).size()"
   ]
  },
  {
   "cell_type": "code",
   "execution_count": 42,
   "id": "1c5ca7c3",
   "metadata": {},
   "outputs": [
    {
     "data": {
      "text/plain": [
       "Workclass     Above/Below 50k  Education    \n",
       " ?             <=50K            10th             98\n",
       "                                11th            118\n",
       "                                12th             38\n",
       "                                1st-4th          12\n",
       "                                5th-6th          28\n",
       "                                               ... \n",
       " State-gov     >50K             Some-college     31\n",
       " Without-pay   <=50K            7th-8th           1\n",
       "                                Assoc-acdm        1\n",
       "                                HS-grad           9\n",
       "                                Some-college      3\n",
       "Length: 208, dtype: int64"
      ]
     },
     "execution_count": 42,
     "metadata": {},
     "output_type": "execute_result"
    }
   ],
   "source": [
    "adult.groupby(by=[ \"Workclass\",\"Above/Below 50k\", \"Education\"]).size()"
   ]
  },
  {
   "cell_type": "code",
   "execution_count": 43,
   "id": "45ca4a94",
   "metadata": {},
   "outputs": [
    {
     "name": "stdout",
     "output_type": "stream",
     "text": [
      "Sex      Above/Below 50k\n",
      " Female   <=50K              9592\n",
      "          >50K               1179\n",
      " Male     <=50K             15128\n",
      "          >50K               6662\n",
      "dtype: int64\n",
      "8140.25\n"
     ]
    }
   ],
   "source": [
    "# Group the adult dataset by \"Sex\" and \"Above/Below 50k\"\n",
    "gb = adult.groupby(by = ['Sex', 'Above/Below 50k']).size()\n",
    "\n",
    "# Print out how many rows are in each created group\n",
    "print(gb)\n",
    "\n",
    "# Print out the mean of each group for all columns\n",
    "print(gb.mean())"
   ]
  },
  {
   "cell_type": "code",
   "execution_count": 44,
   "id": "32a8c3d4",
   "metadata": {},
   "outputs": [
    {
     "name": "stdout",
     "output_type": "stream",
     "text": [
      "Education      Above/Below 50k\n",
      " 10th           <=50K             36.574053\n",
      "                >50K              43.774194\n",
      " 11th           <=50K             33.322870\n",
      "                >50K              45.133333\n",
      " 12th           <=50K             35.035000\n",
      "                >50K              44.818182\n",
      " 1st-4th        <=50K             37.864198\n",
      "                >50K              48.833333\n",
      " 5th-6th        <=50K             38.539432\n",
      "                >50K              46.000000\n",
      " 7th-8th        <=50K             38.830033\n",
      "                >50K              47.500000\n",
      " 9th            <=50K             37.667351\n",
      "                >50K              44.851852\n",
      " Assoc-acdm     <=50K             39.264339\n",
      "                >50K              44.256604\n",
      " Assoc-voc      <=50K             40.817826\n",
      "                >50K              43.853186\n",
      " Bachelors      <=50K             40.586152\n",
      "                >50K              45.475462\n",
      " Doctorate      <=50K             45.429907\n",
      "                >50K              47.513072\n",
      " HS-grad        <=50K             39.727510\n",
      "                >50K              45.042985\n",
      " Masters        <=50K             41.223822\n",
      "                >50K              45.917623\n",
      " Preschool      <=50K             36.647059\n",
      " Prof-school    <=50K             42.816993\n",
      "                >50K              49.092199\n",
      " Some-college   <=50K             37.450203\n",
      "                >50K              44.820476\n",
      "Name: Hours/Week, dtype: float64\n"
     ]
    }
   ],
   "source": [
    "# Create a list of user-selected variables\n",
    "user_list = ['Education', 'Above/Below 50k']\n",
    "\n",
    "# Create a GroupBy object using this list\n",
    "gb = adult.groupby(by = user_list)\n",
    "\n",
    "# Find the mean for the variable \"Hours/Week\" for each group - Be efficient!\n",
    "print(gb['Hours/Week'].mean())"
   ]
  },
  {
   "cell_type": "markdown",
   "id": "24e80faa",
   "metadata": {},
   "source": [
    "# Set, Add and Remove Category"
   ]
  },
  {
   "cell_type": "code",
   "execution_count": 45,
   "id": "979569b7",
   "metadata": {},
   "outputs": [
    {
     "name": "stdout",
     "output_type": "stream",
     "text": [
      "<class 'pandas.core.frame.DataFrame'>\n",
      "RangeIndex: 2937 entries, 0 to 2936\n",
      "Data columns (total 19 columns):\n",
      " #   Column             Non-Null Count  Dtype  \n",
      "---  ------             --------------  -----  \n",
      " 0   ID                 2937 non-null   int64  \n",
      " 1   name               2845 non-null   object \n",
      " 2   age                2937 non-null   float64\n",
      " 3   sex                2937 non-null   object \n",
      " 4   breed              2937 non-null   object \n",
      " 5   date_found         2937 non-null   object \n",
      " 6   adoptable_from     2937 non-null   object \n",
      " 7   posted             2937 non-null   object \n",
      " 8   color              2937 non-null   object \n",
      " 9   coat               2937 non-null   object \n",
      " 10  size               2937 non-null   object \n",
      " 11  neutered           1852 non-null   object \n",
      " 12  housebroken        460 non-null    object \n",
      " 13  likes_people       1999 non-null   object \n",
      " 14  likes_children     1219 non-null   object \n",
      " 15  get_along_males    1633 non-null   object \n",
      " 16  get_along_females  1673 non-null   object \n",
      " 17  get_along_cats     431 non-null    object \n",
      " 18  keep_in            1916 non-null   object \n",
      "dtypes: float64(1), int64(1), object(17)\n",
      "memory usage: 436.1+ KB\n"
     ]
    }
   ],
   "source": [
    "dogs = pd.read_csv('/Users/mishudhar/Downloads/Categorcal_Python/ShelterDogs.csv')\n",
    "dogs.info()"
   ]
  },
  {
   "cell_type": "code",
   "execution_count": 47,
   "id": "dd226040",
   "metadata": {},
   "outputs": [
    {
     "data": {
      "text/plain": [
       "short         1972\n",
       "medium         565\n",
       "wirehaired     220\n",
       "long           180\n",
       "Name: coat, dtype: int64"
      ]
     },
     "execution_count": 47,
     "metadata": {},
     "output_type": "execute_result"
    }
   ],
   "source": [
    "# converting coat column into category\n",
    "dogs['coat'] = dogs['coat'].astype('category')\n",
    "dogs['coat'].value_counts()"
   ]
  },
  {
   "cell_type": "code",
   "execution_count": 48,
   "id": "f1615616",
   "metadata": {},
   "outputs": [
    {
     "data": {
      "text/plain": [
       "short         1972\n",
       "medium         565\n",
       "wirehaired     220\n",
       "long           180\n",
       "Name: coat, dtype: int64"
      ]
     },
     "execution_count": 48,
     "metadata": {},
     "output_type": "execute_result"
    }
   ],
   "source": [
    "dogs['coat'].value_counts(dropna = False)"
   ]
  },
  {
   "cell_type": "markdown",
   "id": "9e8359e8",
   "metadata": {},
   "source": [
    "# The.cat accessor object\n",
    "Series.cat.method_name\n",
    "1. new_categories: a list of new categories\n",
    "2. inplace: Boolean. whether or not the update should overwrite the series\n",
    "3. ordered: Boolean: - whetether or not the categorical is treated as an ordered categorical"
   ]
  },
  {
   "cell_type": "code",
   "execution_count": 49,
   "id": "89383b0e",
   "metadata": {},
   "outputs": [],
   "source": [
    "dogs['coat'] = dogs['coat'].cat.set_categories(new_categories = ['short', 'medium', 'long'])"
   ]
  },
  {
   "cell_type": "code",
   "execution_count": 50,
   "id": "dd9865d2",
   "metadata": {},
   "outputs": [
    {
     "data": {
      "text/plain": [
       "short     1972\n",
       "medium     565\n",
       "NaN        220\n",
       "long       180\n",
       "Name: coat, dtype: int64"
      ]
     },
     "execution_count": 50,
     "metadata": {},
     "output_type": "execute_result"
    }
   ],
   "source": [
    "dogs['coat'].value_counts(dropna = False)"
   ]
  },
  {
   "cell_type": "markdown",
   "id": "6f55f302",
   "metadata": {},
   "source": [
    "Notice that the 'wirehaired' category has been dropped as it is not listed in the new_categories and replaced by NAN"
   ]
  },
  {
   "cell_type": "code",
   "execution_count": 51,
   "id": "d8012193",
   "metadata": {},
   "outputs": [
    {
     "data": {
      "text/plain": [
       "short     1972\n",
       "medium     565\n",
       "long       180\n",
       "Name: coat, dtype: int64"
      ]
     },
     "execution_count": 51,
     "metadata": {},
     "output_type": "execute_result"
    }
   ],
   "source": [
    "dogs['coat'].value_counts()"
   ]
  },
  {
   "cell_type": "code",
   "execution_count": 52,
   "id": "75ac6a12",
   "metadata": {},
   "outputs": [],
   "source": [
    "# We can set the ordered pf the category by using ordered = True parameter\n",
    "dogs['coat'] = dogs['coat'].cat.set_categories(new_categories = ['short', 'medium', 'long'],\n",
    "                                              ordered = True)"
   ]
  },
  {
   "cell_type": "code",
   "execution_count": 53,
   "id": "a7b8b6d5",
   "metadata": {},
   "outputs": [
    {
     "data": {
      "text/plain": [
       "0     short\n",
       "1     short\n",
       "2     short\n",
       "3    medium\n",
       "4     short\n",
       "Name: coat, dtype: category\n",
       "Categories (3, object): ['short' < 'medium' < 'long']"
      ]
     },
     "execution_count": 53,
     "metadata": {},
     "output_type": "execute_result"
    }
   ],
   "source": [
    "dogs['coat'].head()"
   ]
  },
  {
   "cell_type": "code",
   "execution_count": 55,
   "id": "d9ff7d0c",
   "metadata": {},
   "outputs": [
    {
     "data": {
      "text/plain": [
       "yes    1991\n",
       "NaN     938\n",
       "no        8\n",
       "Name: likes_people, dtype: int64"
      ]
     },
     "execution_count": 55,
     "metadata": {},
     "output_type": "execute_result"
    }
   ],
   "source": [
    "dogs['likes_people'].value_counts(dropna = False)"
   ]
  },
  {
   "cell_type": "markdown",
   "id": "ca46edbf",
   "metadata": {},
   "source": [
    "In this column there are 938 rows without a response. Maybe the dod shelter did not check or they did checked but did not record the data.\n",
    "\n",
    "Let's add a couple of categories to clean this up"
   ]
  },
  {
   "cell_type": "code",
   "execution_count": 68,
   "id": "3f135267",
   "metadata": {},
   "outputs": [
    {
     "data": {
      "text/plain": [
       "Index(['did not check', 'could not tell'], dtype='object')"
      ]
     },
     "execution_count": 68,
     "metadata": {},
     "output_type": "execute_result"
    }
   ],
   "source": [
    "dogs_df = pd.read_csv('/Users/mishudhar/Downloads/Categorcal_Python/ShelterDogs.csv')\n",
    "\n",
    "# Convert likes_people into category type\n",
    "dogs_df['likes_people'] = dogs['likes_people'].astype('category')\n",
    "\n",
    "# Check the categories\n",
    "dogs_df['likes_people'].cat.categories"
   ]
  },
  {
   "cell_type": "code",
   "execution_count": 69,
   "id": "612f4387",
   "metadata": {},
   "outputs": [],
   "source": [
    "# Adding new categories\n",
    "dogs_df['likes_people'] = dogs_df['likes_people'].cat\\\n",
    "                       .add_categories(new_categories = ['no', 'yes'])"
   ]
  },
  {
   "cell_type": "code",
   "execution_count": 70,
   "id": "6c1dd2cb",
   "metadata": {},
   "outputs": [
    {
     "data": {
      "text/plain": [
       "Index(['did not check', 'could not tell', 'no', 'yes'], dtype='object')"
      ]
     },
     "execution_count": 70,
     "metadata": {},
     "output_type": "execute_result"
    }
   ],
   "source": [
    "dogs_df['likes_people'].cat.categories"
   ]
  },
  {
   "cell_type": "code",
   "execution_count": 71,
   "id": "85587654",
   "metadata": {},
   "outputs": [
    {
     "data": {
      "text/plain": [
       "NaN               2937\n",
       "did not check        0\n",
       "could not tell       0\n",
       "no                   0\n",
       "yes                  0\n",
       "Name: likes_people, dtype: int64"
      ]
     },
     "execution_count": 71,
     "metadata": {},
     "output_type": "execute_result"
    }
   ],
   "source": [
    "dogs_df['likes_people'].value_counts(dropna = False)"
   ]
  },
  {
   "cell_type": "code",
   "execution_count": 73,
   "id": "453f52ae",
   "metadata": {},
   "outputs": [
    {
     "data": {
      "text/plain": [
       "ID                     int64\n",
       "name                  object\n",
       "age                  float64\n",
       "sex                   object\n",
       "breed                 object\n",
       "date_found            object\n",
       "adoptable_from        object\n",
       "posted                object\n",
       "color                 object\n",
       "coat                  object\n",
       "size                  object\n",
       "neutered              object\n",
       "housebroken           object\n",
       "likes_people          object\n",
       "likes_children        object\n",
       "get_along_males       object\n",
       "get_along_females     object\n",
       "get_along_cats        object\n",
       "keep_in               object\n",
       "dtype: object"
      ]
     },
     "execution_count": 73,
     "metadata": {},
     "output_type": "execute_result"
    }
   ],
   "source": [
    "dogs_a = pd.read_csv('/Users/mishudhar/Downloads/Categorcal_Python/ShelterDogs.csv')\n",
    "dogs_a.dtypes"
   ]
  },
  {
   "cell_type": "markdown",
   "id": "03c71e6a",
   "metadata": {},
   "source": [
    "# Removing categories"
   ]
  },
  {
   "cell_type": "code",
   "execution_count": 79,
   "id": "94bd376c",
   "metadata": {},
   "outputs": [],
   "source": [
    "# Removing Categories\n",
    "dogs['coat'] = dogs['coat'].cat.remove_categories(removals = ['medium'])\n",
    "\n"
   ]
  },
  {
   "cell_type": "code",
   "execution_count": 77,
   "id": "53ff39c7",
   "metadata": {},
   "outputs": [
    {
     "data": {
      "text/plain": [
       "Index(['medium', 'long'], dtype='object')"
      ]
     },
     "execution_count": 77,
     "metadata": {},
     "output_type": "execute_result"
    }
   ],
   "source": [
    "dogs['coat'].cat.categories"
   ]
  },
  {
   "cell_type": "code",
   "execution_count": 80,
   "id": "74f3f198",
   "metadata": {},
   "outputs": [
    {
     "data": {
      "text/plain": [
       "short         1972\n",
       "medium         565\n",
       "wirehaired     220\n",
       "long           180\n",
       "Name: coat, dtype: int64"
      ]
     },
     "execution_count": 80,
     "metadata": {},
     "output_type": "execute_result"
    }
   ],
   "source": [
    "dogs_a['coat'].value_counts(dropna= False)"
   ]
  },
  {
   "cell_type": "markdown",
   "id": "d2446cd1",
   "metadata": {},
   "source": [
    "The owner of a local dog adoption agency has listings for almost 3,000 dogs. One of the most common questions they have been receiving lately is: \"What type of area was the dog previously kept in?\". We are setting up a pipeline to do some analysis and want to look into what information is available regarding the \"keep_in\" variable. Both pandas, as pd, and the dogs dataset have been preloaded."
   ]
  },
  {
   "cell_type": "code",
   "execution_count": 81,
   "id": "24d611dc",
   "metadata": {},
   "outputs": [
    {
     "data": {
      "text/plain": [
       "both flat and garden    1224\n",
       "NaN                     1021\n",
       "garden                   510\n",
       "flat                     182\n",
       "Name: keep_in, dtype: int64"
      ]
     },
     "execution_count": 81,
     "metadata": {},
     "output_type": "execute_result"
    }
   ],
   "source": [
    "dogs_a['keep_in'].value_counts(dropna = False)"
   ]
  },
  {
   "cell_type": "code",
   "execution_count": 82,
   "id": "78a89cb3",
   "metadata": {},
   "outputs": [],
   "source": [
    "dogs_a['keep_in'] = dogs_a['keep_in'].astype('category')"
   ]
  },
  {
   "cell_type": "code",
   "execution_count": 83,
   "id": "104567e9",
   "metadata": {},
   "outputs": [],
   "source": [
    "# Add new categories\n",
    "new_categories = [\"Unknown History\", \"Open Yard (Countryside)\"]\n",
    "dogs_a[\"keep_in\"] = dogs_a[\"keep_in\"].cat.add_categories(new_categories)"
   ]
  },
  {
   "cell_type": "code",
   "execution_count": 85,
   "id": "5208139e",
   "metadata": {},
   "outputs": [
    {
     "name": "stdout",
     "output_type": "stream",
     "text": [
      "both flat and garden       1224\n",
      "NaN                        1021\n",
      "garden                      510\n",
      "flat                        182\n",
      "Unknown History               0\n",
      "Open Yard (Countryside)       0\n",
      "Name: keep_in, dtype: int64\n"
     ]
    }
   ],
   "source": [
    "# Check frequency counts while also printing the NaN count\n",
    "print(dogs_a[\"keep_in\"].value_counts(dropna=False))"
   ]
  },
  {
   "cell_type": "code",
   "execution_count": 87,
   "id": "b3f730ea",
   "metadata": {},
   "outputs": [
    {
     "data": {
      "text/plain": [
       "NaN    1718\n",
       "yes    1172\n",
       "no       47\n",
       "Name: likes_children, dtype: int64"
      ]
     },
     "execution_count": 87,
     "metadata": {},
     "output_type": "execute_result"
    }
   ],
   "source": [
    "dogs_a['likes_children'].value_counts(dropna = False)"
   ]
  },
  {
   "cell_type": "markdown",
   "id": "ad849570",
   "metadata": {},
   "source": [
    " The owner of the data wants to convert all \"maybe\" responses to \"no\", as it would be unsafe to let a family adapt a dog if it doesn't like children. The code to convert all \"maybe\" to \"no\" is provided in Step 1. However, the option for \"maybe\" still remains as a category."
   ]
  },
  {
   "cell_type": "code",
   "execution_count": 89,
   "id": "52d599ad",
   "metadata": {},
   "outputs": [
    {
     "data": {
      "text/plain": [
       "maybe    1718\n",
       "yes      1172\n",
       "no         47\n",
       "Name: likes_children, dtype: int64"
      ]
     },
     "execution_count": 89,
     "metadata": {},
     "output_type": "execute_result"
    }
   ],
   "source": [
    "dogs_a['like_children'] = dogs_a['likes_children'].fillna('maybe', inplace = True)\n",
    "dogs_a['likes_children'].value_counts(dropna = False)"
   ]
  },
  {
   "cell_type": "code",
   "execution_count": 91,
   "id": "8562b6e7",
   "metadata": {},
   "outputs": [
    {
     "data": {
      "text/plain": [
       "NaN    1718\n",
       "yes    1172\n",
       "no       47\n",
       "Name: likes_children, dtype: int64"
      ]
     },
     "execution_count": 91,
     "metadata": {},
     "output_type": "execute_result"
    }
   ],
   "source": [
    "# Set \"maybe\" to be \"no\"\n",
    "dogs.loc[dogs[\"likes_children\"] == \"maybe\", \"likes_children\"] = \"no\"\n",
    "\n",
    "dogs['likes_children'].value_counts(dropna = False)"
   ]
  },
  {
   "cell_type": "code",
   "execution_count": 92,
   "id": "0a80cce7",
   "metadata": {},
   "outputs": [
    {
     "data": {
      "text/plain": [
       "no     1765\n",
       "yes    1172\n",
       "Name: likes_children, dtype: int64"
      ]
     },
     "execution_count": 92,
     "metadata": {},
     "output_type": "execute_result"
    }
   ],
   "source": [
    "# Set \"maybe\" to be \"no\"\n",
    "dogs_a.loc[dogs_a[\"likes_children\"] == \"maybe\", \"likes_children\"] = \"no\"\n",
    "\n",
    "dogs_a['likes_children'].value_counts(dropna = False)"
   ]
  },
  {
   "cell_type": "code",
   "execution_count": null,
   "id": "2562f5aa",
   "metadata": {},
   "outputs": [],
   "source": [
    "# Remove maybe from categories\n",
    "# dogs['like_children'] = dogs['like_children'].cat.remove_categories('maybe')"
   ]
  },
  {
   "cell_type": "markdown",
   "id": "c0f609cd",
   "metadata": {},
   "source": [
    "# Renaming Categories\n",
    "# Updating Categories"
   ]
  },
  {
   "cell_type": "code",
   "execution_count": 93,
   "id": "42192aff",
   "metadata": {},
   "outputs": [
    {
     "data": {
      "text/plain": [
       "Unknown Mix                                             1524\n",
       "German Shepherd Dog Mix                                  190\n",
       "Dachshund Mix                                            147\n",
       "Labrador Retriever Mix                                    83\n",
       "Staffordshire Terrier Mix                                 62\n",
       "                                                        ... \n",
       "Border Collie, Spaniel Mix                                 1\n",
       "Bull Terrier, Fox Terrier, Staffordshire Terrier Mix       1\n",
       "Greyhound, Transylvanian Hound Mix                         1\n",
       "Komondor Mix                                               1\n",
       "German Pointer, Greyhound, Pointer Mix                     1\n",
       "Name: breed, Length: 277, dtype: int64"
      ]
     },
     "execution_count": 93,
     "metadata": {},
     "output_type": "execute_result"
    }
   ],
   "source": [
    "dogs_a['breed'] = dogs['breed'].astype('category')\n",
    "dogs['breed'].value_counts(dropna = False)"
   ]
  },
  {
   "cell_type": "markdown",
   "id": "ed152e62",
   "metadata": {},
   "source": [
    "The most common category is Unknown Mix. We can rename this by using dictionary.\n",
    "\n",
    "Series.cat.rename_categories(new_caregories = dict)"
   ]
  },
  {
   "cell_type": "code",
   "execution_count": 97,
   "id": "dde84580",
   "metadata": {},
   "outputs": [
    {
     "data": {
      "text/plain": [
       "Unknown                                     1524\n",
       "German Shepherd Dog Mix                      190\n",
       "Dachshund Mix                                147\n",
       "Labrador Retriever Mix                        83\n",
       "Staffordshire Terrier Mix                     62\n",
       "                                            ... \n",
       "English Cocker Spaniel, Vizsla Mix             1\n",
       "English Greyhound Mix                          1\n",
       "English Greyhound, Spanish Greyhound Mix       1\n",
       "Fox Terrier, German Shepherd Dog Mix           1\n",
       "Yorkshire Terrier                              1\n",
       "Name: breed, Length: 277, dtype: int64"
      ]
     },
     "execution_count": 97,
     "metadata": {},
     "output_type": "execute_result"
    }
   ],
   "source": [
    "my_changes = {'Unknown Mix': 'Unknown'}\n",
    "dogs_a['breed'] = dogs_a['breed'].cat.rename_categories(my_changes)\n",
    "dogs_a['breed'].value_counts()"
   ]
  },
  {
   "cell_type": "code",
   "execution_count": 99,
   "id": "84a9f026",
   "metadata": {},
   "outputs": [
    {
     "data": {
      "text/plain": [
       "male      1681\n",
       "female    1256\n",
       "Name: sex, dtype: int64"
      ]
     },
     "execution_count": 99,
     "metadata": {},
     "output_type": "execute_result"
    }
   ],
   "source": [
    "dogs['sex'].value_counts()"
   ]
  },
  {
   "cell_type": "code",
   "execution_count": 106,
   "id": "d6f08376",
   "metadata": {},
   "outputs": [
    {
     "data": {
      "text/plain": [
       "Index(['female', 'male'], dtype='object')"
      ]
     },
     "execution_count": 106,
     "metadata": {},
     "output_type": "execute_result"
    }
   ],
   "source": [
    "dogs_a['sex'] = dogs_a['sex'].astype('category')\n",
    "\n",
    "dogs_a['sex'].cat.rename_categories(lambda c: c.title())\n",
    "dogs_a['sex'].cat.categories"
   ]
  },
  {
   "cell_type": "code",
   "execution_count": 108,
   "id": "173b4fe2",
   "metadata": {},
   "outputs": [
    {
     "data": {
      "text/plain": [
       "['Unknown', 'French Bulldog Mix', 'Vizsla Mix', 'Bull Terrier, Dachshund Mix', 'Kuvasz', ..., 'Bullmastiff Mix', 'German Dog, Labrador Retriever Mix', 'English Bloodhound, German Shepherd Dog Mix', 'German Pointer, Pointer Mix', 'German Pointer, Greyhound, Pointer Mix']\n",
       "Length: 277\n",
       "Categories (277, object): ['Adoptable From:', 'Afghan Hound', 'Akita', 'Akita Mix', ..., 'Welsh Terrier Mix', 'West Highland White Terrier Mix', 'Whippet Mix', 'Yorkshire Terrier']"
      ]
     },
     "execution_count": 108,
     "metadata": {},
     "output_type": "execute_result"
    }
   ],
   "source": [
    "dogs_a['breed'].unique()"
   ]
  },
  {
   "cell_type": "markdown",
   "id": "2e90bca8",
   "metadata": {},
   "source": [
    "# Collapsing Categories"
   ]
  },
  {
   "cell_type": "code",
   "execution_count": 109,
   "id": "e93b217e",
   "metadata": {},
   "outputs": [],
   "source": [
    "dogs['color'] = dogs['color'].astype('category')"
   ]
  },
  {
   "cell_type": "code",
   "execution_count": 110,
   "id": "f86b3924",
   "metadata": {},
   "outputs": [
    {
     "data": {
      "text/plain": [
       "Index(['apricot', 'black', 'black and brown', 'black and tan',\n",
       "       'black and white', 'brown', 'brown and white', 'dotted', 'golden',\n",
       "       'gray', 'gray and black', 'gray and white', 'red', 'red and white',\n",
       "       'sable', 'saddle back', 'spotty', 'striped', 'tricolor', 'white',\n",
       "       'wild boar', 'yellow', 'yellow-brown'],\n",
       "      dtype='object')"
      ]
     },
     "execution_count": 110,
     "metadata": {},
     "output_type": "execute_result"
    }
   ],
   "source": [
    "dogs['color'].cat.categories"
   ]
  },
  {
   "cell_type": "markdown",
   "id": "6a4294e6",
   "metadata": {},
   "source": [
    "There are a lot of mixed color or color combination. It must make sense to make a primary color, instead of color combination."
   ]
  },
  {
   "cell_type": "code",
   "execution_count": 111,
   "id": "4cccbf4b",
   "metadata": {},
   "outputs": [],
   "source": [
    "update_colors = {'black and brown': 'black',\n",
    "                'black and tan': 'black',\n",
    "                'black and white': 'black'}"
   ]
  },
  {
   "cell_type": "code",
   "execution_count": 113,
   "id": "9bf71846",
   "metadata": {},
   "outputs": [],
   "source": [
    "# Use .replace method\n",
    "dogs['main_color'] = dogs['color'].replace(update_colors)"
   ]
  },
  {
   "cell_type": "code",
   "execution_count": 114,
   "id": "670828f9",
   "metadata": {},
   "outputs": [
    {
     "data": {
      "text/plain": [
       "CategoricalDtype(categories=['apricot', 'black', 'brown', 'brown and white', 'dotted',\n",
       "                  'golden', 'gray', 'gray and black', 'gray and white', 'red',\n",
       "                  'red and white', 'sable', 'saddle back', 'spotty', 'striped',\n",
       "                  'tricolor', 'white', 'wild boar', 'yellow', 'yellow-brown'],\n",
       ", ordered=False)"
      ]
     },
     "execution_count": 114,
     "metadata": {},
     "output_type": "execute_result"
    }
   ],
   "source": [
    "dogs['main_color'].dtype"
   ]
  },
  {
   "cell_type": "code",
   "execution_count": 124,
   "id": "e0ad6e39",
   "metadata": {},
   "outputs": [
    {
     "data": {
      "text/plain": [
       "NaN    1718\n",
       "yes    1172\n",
       "no       47\n",
       "Name: likes_children, dtype: int64"
      ]
     },
     "execution_count": 124,
     "metadata": {},
     "output_type": "execute_result"
    }
   ],
   "source": [
    "dogs['likes_children'].value_counts(dropna = False)"
   ]
  },
  {
   "cell_type": "code",
   "execution_count": 129,
   "id": "de578293",
   "metadata": {},
   "outputs": [],
   "source": [
    "dogs_d = pd.read_csv('/Users/mishudhar/Downloads/Categorcal_Python/ShelterDogs.csv')\n",
    "dogs_d['likes_children'] = dogs_d['likes_children'].astype('category')"
   ]
  },
  {
   "cell_type": "code",
   "execution_count": 131,
   "id": "f0d94467",
   "metadata": {},
   "outputs": [
    {
     "data": {
      "text/plain": [
       "NaN    1718\n",
       "yes    1172\n",
       "no       47\n",
       "Name: likes_children, dtype: int64"
      ]
     },
     "execution_count": 131,
     "metadata": {},
     "output_type": "execute_result"
    }
   ],
   "source": [
    "dogs_d['likes_children'].value_counts(dropna = False)"
   ]
  },
  {
   "cell_type": "code",
   "execution_count": 135,
   "id": "a4299ad2",
   "metadata": {},
   "outputs": [
    {
     "data": {
      "text/plain": [
       "yes    1172\n",
       "no       47\n",
       "Name: likes_children, dtype: int64"
      ]
     },
     "execution_count": 135,
     "metadata": {},
     "output_type": "execute_result"
    }
   ],
   "source": [
    "new_cat = {'NaN': 'Maybe?'}\n",
    "dogs_d['likes_children'] = dogs_d['likes_children'].cat.rename_categories(new_cat)\n",
    "dogs_d['likes_children'].value_counts()"
   ]
  },
  {
   "cell_type": "code",
   "execution_count": 137,
   "id": "98fa2da1",
   "metadata": {},
   "outputs": [
    {
     "data": {
      "text/plain": [
       "short         1972\n",
       "medium         565\n",
       "wirehaired     220\n",
       "long           180\n",
       "Name: coat, dtype: int64"
      ]
     },
     "execution_count": 137,
     "metadata": {},
     "output_type": "execute_result"
    }
   ],
   "source": [
    "dogs_d['coat'].value_counts(dropna = False)"
   ]
  },
  {
   "cell_type": "code",
   "execution_count": 138,
   "id": "d846eca1",
   "metadata": {},
   "outputs": [
    {
     "data": {
      "text/plain": [
       "dtype('O')"
      ]
     },
     "execution_count": 138,
     "metadata": {},
     "output_type": "execute_result"
    }
   ],
   "source": [
    "dogs_d['coat'].dtype"
   ]
  },
  {
   "cell_type": "markdown",
   "id": "fcedbcd8",
   "metadata": {},
   "source": [
    "Collapsing Categories "
   ]
  },
  {
   "cell_type": "code",
   "execution_count": 139,
   "id": "1dc71e4d",
   "metadata": {},
   "outputs": [
    {
     "name": "stdout",
     "output_type": "stream",
     "text": [
      "short     1972\n",
      "medium     965\n",
      "Name: coat_collapsed, dtype: int64\n"
     ]
    }
   ],
   "source": [
    "# Create the update_coats dictionary\n",
    "update_coats = {'wirehaired': 'medium',\n",
    "'long': 'medium'}\n",
    "\n",
    "# Create a new column, coat_collapsed\n",
    "dogs_d[\"coat_collapsed\"] = dogs_d[\"coat\"].replace(update_coats)\n",
    "\n",
    "# Convert the column to categorical\n",
    "dogs_d['coat_collapsed'].astype('category')\n",
    "\n",
    "# Print the frequency table\n",
    "print(dogs_d['coat_collapsed'].value_counts(dropna = False))"
   ]
  },
  {
   "cell_type": "markdown",
   "id": "f358b2c8",
   "metadata": {},
   "source": [
    "# Reordering categories\n",
    "Why reordering categories\n",
    "1. To create ordinal variables\n",
    "2. Better for visualisation\n"
   ]
  },
  {
   "cell_type": "code",
   "execution_count": 141,
   "id": "8ca12437",
   "metadata": {},
   "outputs": [
    {
     "data": {
      "text/plain": [
       "short         1972\n",
       "medium         565\n",
       "wirehaired     220\n",
       "long           180\n",
       "Name: coat, dtype: int64"
      ]
     },
     "execution_count": 141,
     "metadata": {},
     "output_type": "execute_result"
    }
   ],
   "source": [
    "dogs_df['coat'].value_counts(dropna = False)"
   ]
  },
  {
   "cell_type": "code",
   "execution_count": 146,
   "id": "39541ea5",
   "metadata": {},
   "outputs": [],
   "source": [
    "# Reordering Categories\n",
    "# Step-1 crteate a category list\n",
    "new_cat = ['Short', 'medium', 'long', 'wirehaired']\n",
    "\n",
    "# Step-2 input it\n",
    "\n",
    "#dogs_df['coat'] = dogs_df['coat'].cat.reorder_categories(new_cat, ordered = True)"
   ]
  },
  {
   "cell_type": "code",
   "execution_count": 150,
   "id": "1d898a70",
   "metadata": {},
   "outputs": [
    {
     "data": {
      "text/plain": [
       "Index(['large', 'medium', 'small'], dtype='object')"
      ]
     },
     "execution_count": 150,
     "metadata": {},
     "output_type": "execute_result"
    }
   ],
   "source": [
    "dogs['size'] = dogs['size'].astype('category')\n",
    "dogs['size'].cat.categories"
   ]
  },
  {
   "cell_type": "code",
   "execution_count": 154,
   "id": "90e5997a",
   "metadata": {},
   "outputs": [],
   "source": [
    "# Reorder the categories using the list provided\n",
    "dogs[\"size\"] = dogs[\"size\"].cat.reorder_categories(new_categories=[\"small\", \"medium\", \"large\"], ordered = True)"
   ]
  },
  {
   "cell_type": "code",
   "execution_count": 156,
   "id": "416db820",
   "metadata": {},
   "outputs": [
    {
     "name": "stdout",
     "output_type": "stream",
     "text": [
      "size    sex   \n",
      "small   male       260\n",
      "        female     214\n",
      "medium  male      1090\n",
      "        female     854\n",
      "large   male       331\n",
      "        female     188\n",
      "Name: sex, dtype: int64\n"
     ]
    }
   ],
   "source": [
    "# How many Male/Female dogs are available of each size?\n",
    "print(dogs.groupby(by = ['size'])['sex'].value_counts())\n",
    "\n"
   ]
  },
  {
   "cell_type": "code",
   "execution_count": 157,
   "id": "5cee0e13",
   "metadata": {},
   "outputs": [
    {
     "name": "stdout",
     "output_type": "stream",
     "text": [
      "size    keep_in             \n",
      "small   both flat and garden    238\n",
      "        flat                     80\n",
      "        garden                   21\n",
      "medium  both flat and garden    795\n",
      "        garden                  317\n",
      "        flat                     97\n",
      "large   both flat and garden    191\n",
      "        garden                  172\n",
      "        flat                      5\n",
      "Name: keep_in, dtype: int64\n"
     ]
    }
   ],
   "source": [
    "# Do larger dogs need more room to roam?\n",
    "print(dogs.groupby(by = ['size'])['keep_in'].value_counts())"
   ]
  },
  {
   "cell_type": "markdown",
   "id": "e8f6133e",
   "metadata": {},
   "source": [
    "# Cleaning and Accessing data"
   ]
  },
  {
   "cell_type": "markdown",
   "id": "d514b13d",
   "metadata": {},
   "source": [
    "# Possible issuse with categorical Data\n",
    "1. Inconssitent values: 'Ham', 'ham', 'Ham'\n",
    "2. Misspelled values: 'Ham', 'Hma'\n",
    "3. Finally, we need to make sure that if we make corrections after that our data remains catgorical not object"
   ]
  },
  {
   "cell_type": "markdown",
   "id": "9cb657a9",
   "metadata": {},
   "source": [
    "Identifying issues"
   ]
  },
  {
   "cell_type": "code",
   "execution_count": 158,
   "id": "ad3fc704",
   "metadata": {},
   "outputs": [
    {
     "data": {
      "text/plain": [
       "NaN    2506\n",
       "yes     275\n",
       "no      156\n",
       "Name: get_along_cats, dtype: int64"
      ]
     },
     "execution_count": 158,
     "metadata": {},
     "output_type": "execute_result"
    }
   ],
   "source": [
    "dogs['get_along_cats'].value_counts(dropna = False)"
   ]
  },
  {
   "cell_type": "code",
   "execution_count": null,
   "id": "53507435",
   "metadata": {},
   "outputs": [],
   "source": [
    "# Fixing whitespace\n",
    "#dogs['get_along_cats'] = dogs['get_along_cats'].str.strip()\n",
    "\n",
    "# fixing capitalization\n",
    "#dogs['get_along_cats'] = dogs['get_along_cats'].str.title()\n",
    "\n",
    "# fixing misspelled\n",
    "#replace_map = {'Noo':'No'}\n",
    "#dogs['get_along_cats'] = dogs['get_along_cats'].replace(replace_map, inplace = True)\n",
    "\n",
    "# Searching for a string\n",
    "# dogs['breed'].str.contains('Shepherd', regex = False)"
   ]
  },
  {
   "cell_type": "code",
   "execution_count": null,
   "id": "fc7bd473",
   "metadata": {},
   "outputs": [],
   "source": [
    "# dogs.loc[dogs['get_along_cats'] == 'Yes', 'size']\n",
    "\n",
    "# dogs.loc[dogs['get_along_cats'] == 'Yes', 'size'].value_counts(sort = False)"
   ]
  },
  {
   "cell_type": "code",
   "execution_count": 165,
   "id": "e53e35e3",
   "metadata": {},
   "outputs": [
    {
     "data": {
      "text/plain": [
       "Index(['ID', 'name', 'age', 'sex', 'breed', 'date_found', 'adoptable_from',\n",
       "       'posted', 'color', 'coat', 'size', 'neutered', 'housebroken',\n",
       "       'likes_people', 'likes_children', 'get_along_males',\n",
       "       'get_along_females', 'get_along_cats', 'keep_in', 'main_color'],\n",
       "      dtype='object')"
      ]
     },
     "execution_count": 165,
     "metadata": {},
     "output_type": "execute_result"
    }
   ],
   "source": [
    "dogs.columns"
   ]
  },
  {
   "cell_type": "code",
   "execution_count": 168,
   "id": "40125e6e",
   "metadata": {},
   "outputs": [
    {
     "data": {
      "text/html": [
       "<div>\n",
       "<style scoped>\n",
       "    .dataframe tbody tr th:only-of-type {\n",
       "        vertical-align: middle;\n",
       "    }\n",
       "\n",
       "    .dataframe tbody tr th {\n",
       "        vertical-align: top;\n",
       "    }\n",
       "\n",
       "    .dataframe thead th {\n",
       "        text-align: right;\n",
       "    }\n",
       "</style>\n",
       "<table border=\"1\" class=\"dataframe\">\n",
       "  <thead>\n",
       "    <tr style=\"text-align: right;\">\n",
       "      <th></th>\n",
       "      <th>ID</th>\n",
       "      <th>name</th>\n",
       "      <th>age</th>\n",
       "      <th>sex</th>\n",
       "      <th>breed</th>\n",
       "      <th>date_found</th>\n",
       "      <th>adoptable_from</th>\n",
       "      <th>posted</th>\n",
       "      <th>color</th>\n",
       "      <th>coat</th>\n",
       "      <th>size</th>\n",
       "      <th>neutered</th>\n",
       "      <th>housebroken</th>\n",
       "      <th>likes_people</th>\n",
       "      <th>likes_children</th>\n",
       "      <th>get_along_males</th>\n",
       "      <th>get_along_females</th>\n",
       "      <th>get_along_cats</th>\n",
       "      <th>keep_in</th>\n",
       "      <th>main_color</th>\n",
       "    </tr>\n",
       "  </thead>\n",
       "  <tbody>\n",
       "    <tr>\n",
       "      <th>0</th>\n",
       "      <td>23807</td>\n",
       "      <td>Gida</td>\n",
       "      <td>0.25</td>\n",
       "      <td>None</td>\n",
       "      <td>Unknown Mix</td>\n",
       "      <td>12/10/19</td>\n",
       "      <td>12/11/19</td>\n",
       "      <td>12/11/19</td>\n",
       "      <td>red</td>\n",
       "      <td>NaN</td>\n",
       "      <td>small</td>\n",
       "      <td>no</td>\n",
       "      <td>NaN</td>\n",
       "      <td>NaN</td>\n",
       "      <td>None</td>\n",
       "      <td>NaN</td>\n",
       "      <td>NaN</td>\n",
       "      <td>NaN</td>\n",
       "      <td>NaN</td>\n",
       "      <td>red</td>\n",
       "    </tr>\n",
       "    <tr>\n",
       "      <th>1</th>\n",
       "      <td>533</td>\n",
       "      <td>Frida És Ricsi</td>\n",
       "      <td>0.17</td>\n",
       "      <td>None</td>\n",
       "      <td>Unknown Mix</td>\n",
       "      <td>12/1/19</td>\n",
       "      <td>12/1/19</td>\n",
       "      <td>12/9/19</td>\n",
       "      <td>black</td>\n",
       "      <td>NaN</td>\n",
       "      <td>small</td>\n",
       "      <td>no</td>\n",
       "      <td>NaN</td>\n",
       "      <td>NaN</td>\n",
       "      <td>None</td>\n",
       "      <td>yes</td>\n",
       "      <td>yes</td>\n",
       "      <td>yes</td>\n",
       "      <td>NaN</td>\n",
       "      <td>black</td>\n",
       "    </tr>\n",
       "    <tr>\n",
       "      <th>2</th>\n",
       "      <td>23793</td>\n",
       "      <td>NaN</td>\n",
       "      <td>4.00</td>\n",
       "      <td>None</td>\n",
       "      <td>Unknown Mix</td>\n",
       "      <td>12/8/19</td>\n",
       "      <td>12/23/19</td>\n",
       "      <td>12/8/19</td>\n",
       "      <td>saddle back</td>\n",
       "      <td>NaN</td>\n",
       "      <td>medium</td>\n",
       "      <td>no</td>\n",
       "      <td>NaN</td>\n",
       "      <td>NaN</td>\n",
       "      <td>None</td>\n",
       "      <td>NaN</td>\n",
       "      <td>NaN</td>\n",
       "      <td>NaN</td>\n",
       "      <td>NaN</td>\n",
       "      <td>saddle back</td>\n",
       "    </tr>\n",
       "    <tr>\n",
       "      <th>3</th>\n",
       "      <td>23795</td>\n",
       "      <td>NaN</td>\n",
       "      <td>1.00</td>\n",
       "      <td>None</td>\n",
       "      <td>Unknown Mix</td>\n",
       "      <td>12/8/19</td>\n",
       "      <td>12/23/19</td>\n",
       "      <td>12/8/19</td>\n",
       "      <td>yellow-brown</td>\n",
       "      <td>NaN</td>\n",
       "      <td>medium</td>\n",
       "      <td>no</td>\n",
       "      <td>NaN</td>\n",
       "      <td>NaN</td>\n",
       "      <td>None</td>\n",
       "      <td>NaN</td>\n",
       "      <td>NaN</td>\n",
       "      <td>NaN</td>\n",
       "      <td>NaN</td>\n",
       "      <td>yellow-brown</td>\n",
       "    </tr>\n",
       "    <tr>\n",
       "      <th>4</th>\n",
       "      <td>23806</td>\n",
       "      <td>Amy</td>\n",
       "      <td>2.00</td>\n",
       "      <td>None</td>\n",
       "      <td>French Bulldog Mix</td>\n",
       "      <td>12/10/19</td>\n",
       "      <td>12/11/19</td>\n",
       "      <td>12/11/19</td>\n",
       "      <td>black</td>\n",
       "      <td>NaN</td>\n",
       "      <td>small</td>\n",
       "      <td>no</td>\n",
       "      <td>NaN</td>\n",
       "      <td>NaN</td>\n",
       "      <td>None</td>\n",
       "      <td>NaN</td>\n",
       "      <td>NaN</td>\n",
       "      <td>NaN</td>\n",
       "      <td>NaN</td>\n",
       "      <td>black</td>\n",
       "    </tr>\n",
       "  </tbody>\n",
       "</table>\n",
       "</div>"
      ],
      "text/plain": [
       "      ID            name   age   sex               breed date_found  \\\n",
       "0  23807            Gida  0.25  None         Unknown Mix   12/10/19   \n",
       "1    533  Frida És Ricsi  0.17  None         Unknown Mix    12/1/19   \n",
       "2  23793             NaN  4.00  None         Unknown Mix    12/8/19   \n",
       "3  23795             NaN  1.00  None         Unknown Mix    12/8/19   \n",
       "4  23806             Amy  2.00  None  French Bulldog Mix   12/10/19   \n",
       "\n",
       "  adoptable_from    posted         color coat    size neutered housebroken  \\\n",
       "0       12/11/19  12/11/19           red  NaN   small       no         NaN   \n",
       "1        12/1/19   12/9/19         black  NaN   small       no         NaN   \n",
       "2       12/23/19   12/8/19   saddle back  NaN  medium       no         NaN   \n",
       "3       12/23/19   12/8/19  yellow-brown  NaN  medium       no         NaN   \n",
       "4       12/11/19  12/11/19         black  NaN   small       no         NaN   \n",
       "\n",
       "  likes_people likes_children get_along_males get_along_females  \\\n",
       "0          NaN           None             NaN               NaN   \n",
       "1          NaN           None             yes               yes   \n",
       "2          NaN           None             NaN               NaN   \n",
       "3          NaN           None             NaN               NaN   \n",
       "4          NaN           None             NaN               NaN   \n",
       "\n",
       "  get_along_cats keep_in    main_color  \n",
       "0            NaN     NaN           red  \n",
       "1            yes     NaN         black  \n",
       "2            NaN     NaN   saddle back  \n",
       "3            NaN     NaN  yellow-brown  \n",
       "4            NaN     NaN         black  "
      ]
     },
     "execution_count": 168,
     "metadata": {},
     "output_type": "execute_result"
    }
   ],
   "source": [
    "dogs.head()"
   ]
  },
  {
   "cell_type": "code",
   "execution_count": 169,
   "id": "8544997c",
   "metadata": {},
   "outputs": [
    {
     "data": {
      "text/plain": [
       "Series([], Name: size, dtype: category\n",
       "Categories (3, object): ['small' < 'medium' < 'large'])"
      ]
     },
     "execution_count": 169,
     "metadata": {},
     "output_type": "execute_result"
    }
   ],
   "source": [
    "dogs.loc[dogs['get_along_cats'] == 'Yes', 'size']"
   ]
  },
  {
   "cell_type": "code",
   "execution_count": 172,
   "id": "30e39244",
   "metadata": {},
   "outputs": [
    {
     "data": {
      "text/plain": [
       "short         1972\n",
       "medium         565\n",
       "wirehaired     220\n",
       "long           180\n",
       "Name: coat, dtype: int64"
      ]
     },
     "execution_count": 172,
     "metadata": {},
     "output_type": "execute_result"
    }
   ],
   "source": [
    "dogs_d['coat'].value_counts(dropna = False)"
   ]
  },
  {
   "cell_type": "code",
   "execution_count": 175,
   "id": "ff5ad1b6",
   "metadata": {},
   "outputs": [
    {
     "data": {
      "text/plain": [
       "male      124\n",
       "female     56\n",
       "Name: sex, dtype: int64"
      ]
     },
     "execution_count": 175,
     "metadata": {},
     "output_type": "execute_result"
    }
   ],
   "source": [
    "dogs_d.loc[dogs_d['coat'] == 'long', 'sex'].value_counts()"
   ]
  },
  {
   "cell_type": "code",
   "execution_count": 177,
   "id": "b45203bf",
   "metadata": {},
   "outputs": [
    {
     "name": "stdout",
     "output_type": "stream",
     "text": [
      "8.186153846153847\n"
     ]
    }
   ],
   "source": [
    "# Print the mean age of dogs with a breed of \"English Cocker Spaniel\"\n",
    "print(dogs.loc[dogs['breed'] == 'English Cocker Spaniel', 'age'].mean())"
   ]
  },
  {
   "cell_type": "code",
   "execution_count": 173,
   "id": "4b45ee5e",
   "metadata": {},
   "outputs": [
    {
     "data": {
      "text/plain": [
       "short         1972\n",
       "medium         565\n",
       "wirehaired     220\n",
       "long           180\n",
       "Name: coat, dtype: int64"
      ]
     },
     "execution_count": 173,
     "metadata": {},
     "output_type": "execute_result"
    }
   ],
   "source": [
    "dogs_d['coat'].value_counts()"
   ]
  },
  {
   "cell_type": "code",
   "execution_count": 178,
   "id": "d41341f2",
   "metadata": {},
   "outputs": [
    {
     "name": "stdout",
     "output_type": "stream",
     "text": [
      "35\n"
     ]
    }
   ],
   "source": [
    "# Count the number of dogs that have \"English\" in their breed name\n",
    "print(dogs[dogs[\"breed\"].str.contains(\"English\", regex=False)].shape[0])\n"
   ]
  },
  {
   "cell_type": "markdown",
   "id": "45f7a0ce",
   "metadata": {},
   "source": [
    "# Categorical Plot visualisation\n",
    "Las Vegas Trip Advisor Reviews Dataset"
   ]
  },
  {
   "cell_type": "code",
   "execution_count": 182,
   "id": "68787731",
   "metadata": {},
   "outputs": [
    {
     "name": "stdout",
     "output_type": "stream",
     "text": [
      "<class 'pandas.core.frame.DataFrame'>\n",
      "RangeIndex: 504 entries, 0 to 503\n",
      "Data columns (total 20 columns):\n",
      " #   Column             Non-Null Count  Dtype \n",
      "---  ------             --------------  ----- \n",
      " 0   User country       504 non-null    object\n",
      " 1   Nr. reviews        504 non-null    int64 \n",
      " 2   Nr. hotel reviews  504 non-null    int64 \n",
      " 3   Helpful votes      504 non-null    int64 \n",
      " 4   Score              504 non-null    int64 \n",
      " 5   Period of stay     504 non-null    object\n",
      " 6   Traveler type      504 non-null    object\n",
      " 7   Pool               504 non-null    object\n",
      " 8   Gym                504 non-null    object\n",
      " 9   Tennis court       504 non-null    object\n",
      " 10  Spa                504 non-null    object\n",
      " 11  Casino             504 non-null    object\n",
      " 12  Free internet      504 non-null    object\n",
      " 13  Hotel name         504 non-null    object\n",
      " 14  Hotel stars        504 non-null    int64 \n",
      " 15  Nr. rooms          504 non-null    int64 \n",
      " 16  User continent     504 non-null    object\n",
      " 17  Member years       504 non-null    int64 \n",
      " 18  Review month       504 non-null    object\n",
      " 19  Review weekday     504 non-null    object\n",
      "dtypes: int64(7), object(13)\n",
      "memory usage: 78.9+ KB\n"
     ]
    }
   ],
   "source": [
    "reviews = pd.read_csv('/Users/mishudhar/Downloads/Categorcal_Python/lasvegas_tripadvisor.csv')\n",
    "reviews.info()"
   ]
  },
  {
   "cell_type": "code",
   "execution_count": 183,
   "id": "9e3aabe4",
   "metadata": {},
   "outputs": [
    {
     "data": {
      "text/html": [
       "<div>\n",
       "<style scoped>\n",
       "    .dataframe tbody tr th:only-of-type {\n",
       "        vertical-align: middle;\n",
       "    }\n",
       "\n",
       "    .dataframe tbody tr th {\n",
       "        vertical-align: top;\n",
       "    }\n",
       "\n",
       "    .dataframe thead th {\n",
       "        text-align: right;\n",
       "    }\n",
       "</style>\n",
       "<table border=\"1\" class=\"dataframe\">\n",
       "  <thead>\n",
       "    <tr style=\"text-align: right;\">\n",
       "      <th></th>\n",
       "      <th>User country</th>\n",
       "      <th>Nr. reviews</th>\n",
       "      <th>Nr. hotel reviews</th>\n",
       "      <th>Helpful votes</th>\n",
       "      <th>Score</th>\n",
       "      <th>Period of stay</th>\n",
       "      <th>Traveler type</th>\n",
       "      <th>Pool</th>\n",
       "      <th>Gym</th>\n",
       "      <th>Tennis court</th>\n",
       "      <th>Spa</th>\n",
       "      <th>Casino</th>\n",
       "      <th>Free internet</th>\n",
       "      <th>Hotel name</th>\n",
       "      <th>Hotel stars</th>\n",
       "      <th>Nr. rooms</th>\n",
       "      <th>User continent</th>\n",
       "      <th>Member years</th>\n",
       "      <th>Review month</th>\n",
       "      <th>Review weekday</th>\n",
       "    </tr>\n",
       "  </thead>\n",
       "  <tbody>\n",
       "    <tr>\n",
       "      <th>0</th>\n",
       "      <td>USA</td>\n",
       "      <td>11</td>\n",
       "      <td>4</td>\n",
       "      <td>13</td>\n",
       "      <td>5</td>\n",
       "      <td>Dec-Feb</td>\n",
       "      <td>Friends</td>\n",
       "      <td>NO</td>\n",
       "      <td>YES</td>\n",
       "      <td>NO</td>\n",
       "      <td>NO</td>\n",
       "      <td>YES</td>\n",
       "      <td>YES</td>\n",
       "      <td>Circus Circus Hotel &amp; Casino Las Vegas</td>\n",
       "      <td>3</td>\n",
       "      <td>3773</td>\n",
       "      <td>North America</td>\n",
       "      <td>9</td>\n",
       "      <td>January</td>\n",
       "      <td>Thursday</td>\n",
       "    </tr>\n",
       "    <tr>\n",
       "      <th>1</th>\n",
       "      <td>USA</td>\n",
       "      <td>119</td>\n",
       "      <td>21</td>\n",
       "      <td>75</td>\n",
       "      <td>3</td>\n",
       "      <td>Dec-Feb</td>\n",
       "      <td>Business</td>\n",
       "      <td>NO</td>\n",
       "      <td>YES</td>\n",
       "      <td>NO</td>\n",
       "      <td>NO</td>\n",
       "      <td>YES</td>\n",
       "      <td>YES</td>\n",
       "      <td>Circus Circus Hotel &amp; Casino Las Vegas</td>\n",
       "      <td>3</td>\n",
       "      <td>3773</td>\n",
       "      <td>North America</td>\n",
       "      <td>3</td>\n",
       "      <td>January</td>\n",
       "      <td>Friday</td>\n",
       "    </tr>\n",
       "    <tr>\n",
       "      <th>2</th>\n",
       "      <td>USA</td>\n",
       "      <td>36</td>\n",
       "      <td>9</td>\n",
       "      <td>25</td>\n",
       "      <td>5</td>\n",
       "      <td>Mar-May</td>\n",
       "      <td>Families</td>\n",
       "      <td>NO</td>\n",
       "      <td>YES</td>\n",
       "      <td>NO</td>\n",
       "      <td>NO</td>\n",
       "      <td>YES</td>\n",
       "      <td>YES</td>\n",
       "      <td>Circus Circus Hotel &amp; Casino Las Vegas</td>\n",
       "      <td>3</td>\n",
       "      <td>3773</td>\n",
       "      <td>North America</td>\n",
       "      <td>2</td>\n",
       "      <td>February</td>\n",
       "      <td>Saturday</td>\n",
       "    </tr>\n",
       "    <tr>\n",
       "      <th>3</th>\n",
       "      <td>UK</td>\n",
       "      <td>14</td>\n",
       "      <td>7</td>\n",
       "      <td>14</td>\n",
       "      <td>4</td>\n",
       "      <td>Mar-May</td>\n",
       "      <td>Friends</td>\n",
       "      <td>NO</td>\n",
       "      <td>YES</td>\n",
       "      <td>NO</td>\n",
       "      <td>NO</td>\n",
       "      <td>YES</td>\n",
       "      <td>YES</td>\n",
       "      <td>Circus Circus Hotel &amp; Casino Las Vegas</td>\n",
       "      <td>3</td>\n",
       "      <td>3773</td>\n",
       "      <td>Europe</td>\n",
       "      <td>6</td>\n",
       "      <td>February</td>\n",
       "      <td>Friday</td>\n",
       "    </tr>\n",
       "    <tr>\n",
       "      <th>4</th>\n",
       "      <td>Canada</td>\n",
       "      <td>5</td>\n",
       "      <td>5</td>\n",
       "      <td>2</td>\n",
       "      <td>4</td>\n",
       "      <td>Mar-May</td>\n",
       "      <td>Solo</td>\n",
       "      <td>NO</td>\n",
       "      <td>YES</td>\n",
       "      <td>NO</td>\n",
       "      <td>NO</td>\n",
       "      <td>YES</td>\n",
       "      <td>YES</td>\n",
       "      <td>Circus Circus Hotel &amp; Casino Las Vegas</td>\n",
       "      <td>3</td>\n",
       "      <td>3773</td>\n",
       "      <td>North America</td>\n",
       "      <td>7</td>\n",
       "      <td>March</td>\n",
       "      <td>Tuesday</td>\n",
       "    </tr>\n",
       "  </tbody>\n",
       "</table>\n",
       "</div>"
      ],
      "text/plain": [
       "  User country  Nr. reviews  Nr. hotel reviews  Helpful votes  Score  \\\n",
       "0          USA           11                  4             13      5   \n",
       "1          USA          119                 21             75      3   \n",
       "2          USA           36                  9             25      5   \n",
       "3           UK           14                  7             14      4   \n",
       "4       Canada            5                  5              2      4   \n",
       "\n",
       "  Period of stay Traveler type Pool  Gym Tennis court Spa Casino  \\\n",
       "0        Dec-Feb       Friends   NO  YES           NO  NO    YES   \n",
       "1        Dec-Feb      Business   NO  YES           NO  NO    YES   \n",
       "2        Mar-May      Families   NO  YES           NO  NO    YES   \n",
       "3        Mar-May       Friends   NO  YES           NO  NO    YES   \n",
       "4        Mar-May          Solo   NO  YES           NO  NO    YES   \n",
       "\n",
       "  Free internet                              Hotel name  Hotel stars  \\\n",
       "0           YES  Circus Circus Hotel & Casino Las Vegas            3   \n",
       "1           YES  Circus Circus Hotel & Casino Las Vegas            3   \n",
       "2           YES  Circus Circus Hotel & Casino Las Vegas            3   \n",
       "3           YES  Circus Circus Hotel & Casino Las Vegas            3   \n",
       "4           YES  Circus Circus Hotel & Casino Las Vegas            3   \n",
       "\n",
       "   Nr. rooms User continent  Member years Review month Review weekday  \n",
       "0       3773  North America             9      January       Thursday  \n",
       "1       3773  North America             3      January         Friday  \n",
       "2       3773  North America             2     February       Saturday  \n",
       "3       3773         Europe             6     February         Friday  \n",
       "4       3773  North America             7        March        Tuesday  "
      ]
     },
     "execution_count": 183,
     "metadata": {},
     "output_type": "execute_result"
    }
   ],
   "source": [
    "reviews.head()"
   ]
  },
  {
   "cell_type": "code",
   "execution_count": 186,
   "id": "b19e217d",
   "metadata": {},
   "outputs": [
    {
     "data": {
      "text/plain": [
       "5    227\n",
       "4    164\n",
       "3     72\n",
       "2     30\n",
       "1     11\n",
       "Name: Score, dtype: int64"
      ]
     },
     "execution_count": 186,
     "metadata": {},
     "output_type": "execute_result"
    }
   ],
   "source": [
    "reviews['Score'].value_counts()"
   ]
  },
  {
   "cell_type": "code",
   "execution_count": 192,
   "id": "89024d1f",
   "metadata": {},
   "outputs": [
    {
     "data": {
      "image/png": "[encoded data removed]",
      "text/plain": [
       "<Figure size 500x500 with 1 Axes>"
      ]
     },
     "metadata": {},
     "output_type": "display_data"
    }
   ],
   "source": [
    "sns.catplot(data = reviews, x = 'Pool', y = 'Score', kind = 'box')\n",
    "plt.title('Reviews wheter there is Pool Or Not')\n",
    "sns.set(font_scale = 1.4)\n",
    "sns.set_style('whitegrid')\n",
    "plt.show()"
   ]
  },
  {
   "cell_type": "code",
   "execution_count": 190,
   "id": "4386c31c",
   "metadata": {},
   "outputs": [
    {
     "data": {
      "image/png": "[encoded data removed]",
      "text/plain": [
       "<Figure size 640x480 with 1 Axes>"
      ]
     },
     "metadata": {},
     "output_type": "display_data"
    }
   ],
   "source": [
    "sns.boxplot(data = reviews, x= 'Pool', y = 'Score')\n",
    "plt.show()"
   ]
  },
  {
   "cell_type": "markdown",
   "id": "0a3526ee",
   "metadata": {},
   "source": [
    "When people leave reviews for products, services, or destinations, people reading those reviews can sometimes mark the original review as helpful. If enough people mark the review as helpful, future readers of these reviews might be more likely to trust the content of the original review.\n",
    "\n",
    "Using the reviews dataset, explore the continuous variable \"Helpful votes\" across the different categories found in the \"Traveler type\" variable."
   ]
  },
  {
   "cell_type": "code",
   "execution_count": 199,
   "id": "b584ae73",
   "metadata": {},
   "outputs": [
    {
     "data": {
      "image/png": "[encoded data removed]",
      "text/plain": [
       "<Figure size 500x500 with 1 Axes>"
      ]
     },
     "metadata": {},
     "output_type": "display_data"
    }
   ],
   "source": [
    "# Set the font size to 1.25\n",
    "sns.set(font_scale = 1.25)\n",
    "\n",
    "# Set the background to \"darkgrid\"\n",
    "sns.set_style('darkgrid')\n",
    "\n",
    "# Create a boxplot\n",
    "sns.catplot(data = reviews, x = 'Traveler type', y = 'Helpful votes', kind = 'box')\n",
    "\n",
    "plt.show()"
   ]
  },
  {
   "cell_type": "markdown",
   "id": "6d912c5f",
   "metadata": {},
   "source": [
    "It looks like Business Travelers have left most helpful reviews. There are fiew reviews by couples that alos might be helpfult to others."
   ]
  },
  {
   "cell_type": "markdown",
   "id": "d2736817",
   "metadata": {},
   "source": [
    "# Barplot\n",
    "# Summarize a numerical variable across Categorical variables"
   ]
  },
  {
   "cell_type": "code",
   "execution_count": 203,
   "id": "98a955f7",
   "metadata": {},
   "outputs": [
    {
     "data": {
      "image/png": "[encoded data removed]",
      "text/plain": [
       "<Figure size 640x480 with 1 Axes>"
      ]
     },
     "metadata": {},
     "output_type": "display_data"
    }
   ],
   "source": [
    "reviews['Traveler type'].value_counts().plot(kind = 'bar')\n",
    "plt.title('Number of Reviews By Travelers')\n",
    "plt.show()"
   ]
  },
  {
   "cell_type": "markdown",
   "id": "e506762e",
   "metadata": {},
   "source": [
    "import plotly.express as px\n",
    "fig = px.histogram(reviews, x = 'Traveler type', color = 'Traveler type')\n",
    "fig.show()"
   ]
  },
  {
   "cell_type": "code",
   "execution_count": 211,
   "id": "712dbd73",
   "metadata": {},
   "outputs": [
    {
     "data": {
      "image/png": "[encoded data removed]",
      "text/plain": [
       "<Figure size 500x500 with 1 Axes>"
      ]
     },
     "metadata": {},
     "output_type": "display_data"
    }
   ],
   "source": [
    "sns.set(font_scale = 1.2)\n",
    "sns.set_style('darkgrid')\n",
    "sns.catplot(data = reviews, x = 'Traveler type', y = 'Score', kind = 'bar')\n",
    "plt.show()"
   ]
  },
  {
   "cell_type": "markdown",
   "id": "87a7ec52",
   "metadata": {},
   "source": [
    "If we look at the distribution od the score among those traveler type of friends, the estimated mean of this data would be just above 4 and the confidence interval would be quite small. While the solo mean is below 4 and the confidence interval is larger."
   ]
  },
  {
   "cell_type": "markdown",
   "id": "ca53cd4a",
   "metadata": {},
   "source": [
    "Sometimes visualizingbthe data across one variable is not enough. The 'Hue' parameter can be very helful in that case."
   ]
  },
  {
   "cell_type": "code",
   "execution_count": 214,
   "id": "762f2d70",
   "metadata": {},
   "outputs": [
    {
     "data": {
      "image/png": "[encoded data removed]",
      "text/plain": [
       "<Figure size 622.292x500 with 1 Axes>"
      ]
     },
     "metadata": {},
     "output_type": "display_data"
    }
   ],
   "source": [
    "sns.set(font_scale = 1.2)\n",
    "sns.set_style('darkgrid')\n",
    "sns.catplot(data = reviews, x = 'Traveler type', y = 'Score', hue = 'Tennis court', kind = 'bar')\n",
    "plt.show()"
   ]
  },
  {
   "cell_type": "markdown",
   "id": "e75b3cdb",
   "metadata": {},
   "source": [
    "Except the business traveler all of the other types have given high score when there is a tennis court in the hotel."
   ]
  },
  {
   "cell_type": "markdown",
   "id": "c9146cb3",
   "metadata": {},
   "source": [
    "Las Vegas hotels are seeing large variations in how helpful reviews appear to other people. The owners of these hotels are curious if there are times of the year when reviews have been more helpful to their potential guests. Help the owners understand their reviews better by creating a bar plot of the average number of helpful votes per review across the categorical variable \"Period of stay\""
   ]
  },
  {
   "cell_type": "code",
   "execution_count": 216,
   "id": "b27460bd",
   "metadata": {},
   "outputs": [
    {
     "name": "stdout",
     "output_type": "stream",
     "text": [
      "Mar-May    128\n",
      "Jun-Aug    126\n",
      "Sep-Nov    126\n",
      "Dec-Feb    124\n",
      "Name: Period of stay, dtype: int64\n"
     ]
    },
    {
     "data": {
      "image/png": "[encoded data removed]",
      "text/plain": [
       "<Figure size 500x500 with 1 Axes>"
      ]
     },
     "metadata": {},
     "output_type": "display_data"
    }
   ],
   "source": [
    "# Print the frequency counts of \"Period of stay\"\n",
    "print(reviews[\"Period of stay\"].value_counts())\n",
    "\n",
    "sns.set(font_scale=1.2)\n",
    "sns.set_style(\"whitegrid\")\n",
    "\n",
    "# Create a bar plot of \"Helpful votes\" by \"Period of stay\"\n",
    "sns.catplot(data = reviews, x = \"Period of stay\", y = \"Helpful votes\", kind = 'bar')\n",
    "plt.show()"
   ]
  },
  {
   "cell_type": "markdown",
   "id": "76728bf8",
   "metadata": {},
   "source": [
    "If we look at the numbers, most of the values are almost similar.\n",
    "\n",
    "It looks like potential guest might get reviews from 'Dec-Feb' more helpful and 'Sep-Nov' less helpful."
   ]
  },
  {
   "cell_type": "code",
   "execution_count": 217,
   "id": "d649897b",
   "metadata": {},
   "outputs": [
    {
     "data": {
      "image/png": "[encoded data removed]",
      "text/plain": [
       "<Figure size 500x500 with 1 Axes>"
      ]
     },
     "metadata": {},
     "output_type": "display_data"
    }
   ],
   "source": [
    "# Create a bar chart\n",
    "sns.set(font_scale=.9)\n",
    "sns.set_style(\"whitegrid\")\n",
    "sns.catplot(x = 'User continent', y = 'Score', data=reviews, kind= 'bar')\n",
    "plt.show()"
   ]
  },
  {
   "cell_type": "code",
   "execution_count": 218,
   "id": "698fc112",
   "metadata": {},
   "outputs": [
    {
     "name": "stdout",
     "output_type": "stream",
     "text": [
      "North America    295\n",
      "Europe           118\n",
      "Oceania           41\n",
      "Asia              36\n",
      "Africa             7\n",
      "South America      7\n",
      "Name: User continent, dtype: int64\n"
     ]
    }
   ],
   "source": [
    "# Print the frequency counts for \"User continent\"\n",
    "print(reviews['User continent'].value_counts())"
   ]
  },
  {
   "cell_type": "code",
   "execution_count": 220,
   "id": "1096187b",
   "metadata": {},
   "outputs": [
    {
     "data": {
      "image/png": "[encoded data removed]",
      "text/plain": [
       "<Figure size 500x500 with 1 Axes>"
      ]
     },
     "metadata": {},
     "output_type": "display_data"
    }
   ],
   "source": [
    "# Convert \"User continent\" to a categorical variable\n",
    "reviews[\"User continent\"] = reviews[\"User continent\"].astype('category')\n",
    "sns.set(font_scale = .7)\n",
    "sns.catplot(x = 'User continent', y=\"Score\", data=reviews, kind=\"bar\")\n",
    "plt.show()"
   ]
  },
  {
   "cell_type": "code",
   "execution_count": 222,
   "id": "f2c2022b",
   "metadata": {},
   "outputs": [
    {
     "data": {
      "text/plain": [
       "['North America', 'Europe', 'Oceania', 'Asia', 'Africa', 'South America']"
      ]
     },
     "execution_count": 222,
     "metadata": {},
     "output_type": "execute_result"
    }
   ],
   "source": [
    "continent_categories = list(reviews[\"User continent\"].value_counts().index)\n",
    "continent_categories"
   ]
  },
  {
   "cell_type": "code",
   "execution_count": 227,
   "id": "f7ddadd3",
   "metadata": {},
   "outputs": [
    {
     "data": {
      "image/png": "[encoded data removed]",
      "text/plain": [
       "<Figure size 500x500 with 1 Axes>"
      ]
     },
     "metadata": {},
     "output_type": "display_data"
    }
   ],
   "source": [
    "# Reorder \"User continent\" using continent_categories and rerun the graphic\n",
    "continent_categories = list(reviews[\"User continent\"].value_counts().index)\n",
    "reviews[\"User continent\"] = reviews[\"User continent\"].cat.reorder_categories(new_categories=continent_categories)\n",
    "sns.catplot(x=\"User continent\", y=\"Score\", data=reviews, kind=\"bar\")\n",
    "plt.title('Most Common Continent to Least Common Continent')\n",
    "plt.show()"
   ]
  },
  {
   "cell_type": "code",
   "execution_count": 229,
   "id": "5f153453",
   "metadata": {},
   "outputs": [
    {
     "data": {
      "image/png": "[encoded data removed]",
      "text/plain": [
       "<Figure size 713.444x500 with 1 Axes>"
      ]
     },
     "metadata": {},
     "output_type": "display_data"
    }
   ],
   "source": [
    "# Add a second category to split the data on: \"Free internet\"\n",
    "sns.set(font_scale=2)\n",
    "sns.set_style(\"darkgrid\")\n",
    "sns.catplot(x = 'Casino', y=\"Score\", data=reviews, kind=\"bar\", hue = 'Free internet')\n",
    "plt.show()"
   ]
  },
  {
   "cell_type": "code",
   "execution_count": 230,
   "id": "c14734c3",
   "metadata": {},
   "outputs": [
    {
     "data": {
      "image/png": "[encoded data removed]",
      "text/plain": [
       "<Figure size 671.125x500 with 1 Axes>"
      ]
     },
     "metadata": {},
     "output_type": "display_data"
    }
   ],
   "source": [
    "# Switch the x and hue categories\n",
    "sns.set(font_scale=2)\n",
    "sns.set_style(\"darkgrid\")\n",
    "sns.catplot(x = 'Free internet', y=\"Score\", data=reviews, kind=\"bar\", hue= 'Casino')\n",
    "plt.show()"
   ]
  },
  {
   "cell_type": "code",
   "execution_count": 235,
   "id": "889e7f14",
   "metadata": {},
   "outputs": [
    {
     "data": {
      "image/png": "[encoded data removed]",
      "text/plain": [
       "<Figure size 577x500 with 1 Axes>"
      ]
     },
     "metadata": {},
     "output_type": "display_data"
    }
   ],
   "source": [
    "# Update x to be \"User continent\"\n",
    "sns.set(font_scale = 0.90)\n",
    "sns.set_style(\"darkgrid\")\n",
    "sns.catplot(x= 'User continent', y=\"Score\", data=reviews, kind=\"bar\", hue=\"Casino\")\n",
    "plt.show()"
   ]
  },
  {
   "cell_type": "markdown",
   "id": "ade0e458",
   "metadata": {},
   "source": [
    "# Pointplot example"
   ]
  },
  {
   "cell_type": "code",
   "execution_count": 237,
   "id": "a225ddf8",
   "metadata": {},
   "outputs": [
    {
     "data": {
      "image/png": "[encoded data removed]",
      "text/plain": [
       "<Figure size 500x500 with 1 Axes>"
      ]
     },
     "metadata": {},
     "output_type": "display_data"
    }
   ],
   "source": [
    "sns.set(font_scale = 0.90)\n",
    "sns.set_style(\"darkgrid\")\n",
    "sns.catplot(x= 'Pool', y=\"Score\", data=reviews, kind=\"point\")\n",
    "plt.show()"
   ]
  },
  {
   "cell_type": "code",
   "execution_count": 246,
   "id": "c903c4a0",
   "metadata": {},
   "outputs": [
    {
     "data": {
      "image/png": "[encoded data removed]",
      "text/plain": [
       "<Figure size 591.75x500 with 1 Axes>"
      ]
     },
     "metadata": {},
     "output_type": "display_data"
    }
   ],
   "source": [
    "sns.catplot(x= 'Spa', y=\"Score\", data=reviews, kind=\"point\",\n",
    "           hue = 'Tennis court', dodge = True)\n",
    "plt.show()"
   ]
  },
  {
   "cell_type": "code",
   "execution_count": null,
   "id": "030dea79",
   "metadata": {},
   "outputs": [],
   "source": []
  },
  {
   "cell_type": "code",
   "execution_count": null,
   "id": "e12e3d68",
   "metadata": {},
   "outputs": [],
   "source": []
  },
  {
   "cell_type": "markdown",
   "id": "fc674f27",
   "metadata": {},
   "source": [
    "Sometimes we might not want to join the estimators of each line. WE can set this off by passing join = False"
   ]
  },
  {
   "cell_type": "code",
   "execution_count": 241,
   "id": "50dbfba7",
   "metadata": {},
   "outputs": [
    {
     "data": {
      "image/png": "[encoded data removed]",
      "text/plain": [
       "<Figure size 500x500 with 1 Axes>"
      ]
     },
     "metadata": {},
     "output_type": "display_data"
    }
   ],
   "source": [
    "sns.catplot(x= 'Score', y= \"Review weekday\", data=reviews, kind=\"point\",\n",
    "           join = False)\n",
    "plt.show()"
   ]
  },
  {
   "cell_type": "code",
   "execution_count": 243,
   "id": "92c055ed",
   "metadata": {},
   "outputs": [
    {
     "data": {
      "image/png": "[encoded data removed]",
      "text/plain": [
       "<Figure size 577x500 with 1 Axes>"
      ]
     },
     "metadata": {},
     "output_type": "display_data"
    }
   ],
   "source": [
    "sns.catplot(data = reviews, x = 'Tennis court', kind = 'count', hue = 'Spa')\n",
    "plt.show()"
   ]
  },
  {
   "cell_type": "markdown",
   "id": "931a28c2",
   "metadata": {},
   "source": [
    "Creating helpful visualizations sometimes requires a lot of testing. You have been asked to create a visualization that shows the number of reviews, \"Nr. reviews\", which is the number of reviews a reviewer has previously written, across a hotel's star rating, \"Hotel stars\". Since the number of reviews is numerical, you have decided to use a point plot to show the mean of the data across the categories."
   ]
  },
  {
   "cell_type": "code",
   "execution_count": 247,
   "id": "975c2b45",
   "metadata": {},
   "outputs": [
    {
     "data": {
      "image/png": "[encoded data removed]",
      "text/plain": [
       "<Figure size 577x500 with 1 Axes>"
      ]
     },
     "metadata": {},
     "output_type": "display_data"
    }
   ],
   "source": [
    "# Create a point plot with catplot using \"Hotel stars\" and \"Nr. reviews\"\n",
    "sns.catplot(\n",
    "  # Split the data across Hotel stars and summarize Nr. reviews\n",
    "  x = 'Hotel stars',\n",
    "  y = 'Nr. reviews',\n",
    "  data=reviews,\n",
    "  # Specify a point plot\n",
    "  kind = 'point',\n",
    "  hue=\"Pool\",\n",
    "  # Make sure the lines and points don't overlap\n",
    "  dodge = True\n",
    ")\n",
    "plt.show()\n"
   ]
  },
  {
   "cell_type": "code",
   "execution_count": 250,
   "id": "a454936e",
   "metadata": {},
   "outputs": [
    {
     "data": {
      "image/png": "[encoded data removed]",
      "text/plain": [
       "<Figure size 577x500 with 1 Axes>"
      ]
     },
     "metadata": {},
     "output_type": "display_data"
    }
   ],
   "source": [
    "# Create a point plot with catplot using \"Hotel stars\" and \"Nr. reviews\"\n",
    "sns.catplot(\n",
    "  # Split the data across Hotel stars and summarize Nr. reviews\n",
    "  x = 'Hotel stars',\n",
    "  y = 'Nr. reviews',\n",
    "  data=reviews,\n",
    "  # Specify a point plot\n",
    "  kind = 'point',\n",
    "  hue=\"Pool\",\n",
    "  # Make sure the lines and points don't overlap\n",
    "  join = False\n",
    ")\n",
    "plt.show()"
   ]
  },
  {
   "cell_type": "code",
   "execution_count": 251,
   "id": "595536c8",
   "metadata": {},
   "outputs": [
    {
     "data": {
      "image/png": "[encoded data removed]",
      "text/plain": [
       "<Figure size 664x500 with 1 Axes>"
      ]
     },
     "metadata": {},
     "output_type": "display_data"
    }
   ],
   "source": [
    "sns.set(font_scale=1.4)\n",
    "sns.set_style(\"darkgrid\")\n",
    "\n",
    "# Create a catplot that will count the frequency of \"Score\" across \"Traveler type\"\n",
    "sns.catplot(\n",
    "  data = reviews, x = 'Score', kind = 'count', hue = 'Traveler type'\n",
    ")\n",
    "plt.show()"
   ]
  },
  {
   "cell_type": "markdown",
   "id": "2c44f8b3",
   "metadata": {},
   "source": [
    "The couples Traveler type and a score of 5 were the most common values found in the data"
   ]
  },
  {
   "cell_type": "markdown",
   "id": "aaecbf0d",
   "metadata": {},
   "source": [
    "# Facetgird"
   ]
  },
  {
   "cell_type": "code",
   "execution_count": 255,
   "id": "268c7104",
   "metadata": {},
   "outputs": [
    {
     "data": {
      "image/png": "[encoded data removed]",
      "text/plain": [
       "<Figure size 1500x1000 with 6 Axes>"
      ]
     },
     "metadata": {},
     "output_type": "display_data"
    }
   ],
   "source": [
    "sns.catplot(x = 'Traveler type', kind = 'count', col = 'User continent', col_wrap = 3,\n",
    "           palette = sns.color_palette('Set1'), data = reviews)\n",
    "plt.show()"
   ]
  },
  {
   "cell_type": "markdown",
   "id": "cb802af5",
   "metadata": {},
   "source": [
    "Updating the plot"
   ]
  },
  {
   "cell_type": "code",
   "execution_count": 257,
   "id": "e47e8aea",
   "metadata": {},
   "outputs": [
    {
     "data": {
      "image/png": "[encoded data removed]",
      "text/plain": [
       "<Figure size 1500x1000 with 6 Axes>"
      ]
     },
     "metadata": {},
     "output_type": "display_data"
    }
   ],
   "source": [
    "sns.set_style('whitegrid')\n",
    "ax = sns.catplot(x = 'Traveler type', kind = 'count', col = 'User continent', col_wrap = 3,\n",
    "           palette = sns.color_palette('Set1'), data = reviews)\n",
    "ax.fig.suptitle('Hotel Score by Traveler Type & User Continent')\n",
    "ax.set_axis_labels('Traveler Type', 'Number of Reviews')\n",
    "plt.subplots_adjust(top = 0.9)\n",
    "plt.show()"
   ]
  },
  {
   "cell_type": "code",
   "execution_count": 258,
   "id": "404cb59a",
   "metadata": {},
   "outputs": [
    {
     "data": {
      "text/html": [
       "<div>\n",
       "<style scoped>\n",
       "    .dataframe tbody tr th:only-of-type {\n",
       "        vertical-align: middle;\n",
       "    }\n",
       "\n",
       "    .dataframe tbody tr th {\n",
       "        vertical-align: top;\n",
       "    }\n",
       "\n",
       "    .dataframe thead th {\n",
       "        text-align: right;\n",
       "    }\n",
       "</style>\n",
       "<table border=\"1\" class=\"dataframe\">\n",
       "  <thead>\n",
       "    <tr style=\"text-align: right;\">\n",
       "      <th></th>\n",
       "      <th>User country</th>\n",
       "      <th>Nr. reviews</th>\n",
       "      <th>Nr. hotel reviews</th>\n",
       "      <th>Helpful votes</th>\n",
       "      <th>Score</th>\n",
       "      <th>Period of stay</th>\n",
       "      <th>Traveler type</th>\n",
       "      <th>Pool</th>\n",
       "      <th>Gym</th>\n",
       "      <th>Tennis court</th>\n",
       "      <th>Spa</th>\n",
       "      <th>Casino</th>\n",
       "      <th>Free internet</th>\n",
       "      <th>Hotel name</th>\n",
       "      <th>Hotel stars</th>\n",
       "      <th>Nr. rooms</th>\n",
       "      <th>User continent</th>\n",
       "      <th>Member years</th>\n",
       "      <th>Review month</th>\n",
       "      <th>Review weekday</th>\n",
       "    </tr>\n",
       "  </thead>\n",
       "  <tbody>\n",
       "    <tr>\n",
       "      <th>0</th>\n",
       "      <td>USA</td>\n",
       "      <td>11</td>\n",
       "      <td>4</td>\n",
       "      <td>13</td>\n",
       "      <td>5</td>\n",
       "      <td>Dec-Feb</td>\n",
       "      <td>Friends</td>\n",
       "      <td>NO</td>\n",
       "      <td>YES</td>\n",
       "      <td>NO</td>\n",
       "      <td>NO</td>\n",
       "      <td>YES</td>\n",
       "      <td>YES</td>\n",
       "      <td>Circus Circus Hotel &amp; Casino Las Vegas</td>\n",
       "      <td>3</td>\n",
       "      <td>3773</td>\n",
       "      <td>North America</td>\n",
       "      <td>9</td>\n",
       "      <td>January</td>\n",
       "      <td>Thursday</td>\n",
       "    </tr>\n",
       "    <tr>\n",
       "      <th>1</th>\n",
       "      <td>USA</td>\n",
       "      <td>119</td>\n",
       "      <td>21</td>\n",
       "      <td>75</td>\n",
       "      <td>3</td>\n",
       "      <td>Dec-Feb</td>\n",
       "      <td>Business</td>\n",
       "      <td>NO</td>\n",
       "      <td>YES</td>\n",
       "      <td>NO</td>\n",
       "      <td>NO</td>\n",
       "      <td>YES</td>\n",
       "      <td>YES</td>\n",
       "      <td>Circus Circus Hotel &amp; Casino Las Vegas</td>\n",
       "      <td>3</td>\n",
       "      <td>3773</td>\n",
       "      <td>North America</td>\n",
       "      <td>3</td>\n",
       "      <td>January</td>\n",
       "      <td>Friday</td>\n",
       "    </tr>\n",
       "    <tr>\n",
       "      <th>2</th>\n",
       "      <td>USA</td>\n",
       "      <td>36</td>\n",
       "      <td>9</td>\n",
       "      <td>25</td>\n",
       "      <td>5</td>\n",
       "      <td>Mar-May</td>\n",
       "      <td>Families</td>\n",
       "      <td>NO</td>\n",
       "      <td>YES</td>\n",
       "      <td>NO</td>\n",
       "      <td>NO</td>\n",
       "      <td>YES</td>\n",
       "      <td>YES</td>\n",
       "      <td>Circus Circus Hotel &amp; Casino Las Vegas</td>\n",
       "      <td>3</td>\n",
       "      <td>3773</td>\n",
       "      <td>North America</td>\n",
       "      <td>2</td>\n",
       "      <td>February</td>\n",
       "      <td>Saturday</td>\n",
       "    </tr>\n",
       "    <tr>\n",
       "      <th>3</th>\n",
       "      <td>UK</td>\n",
       "      <td>14</td>\n",
       "      <td>7</td>\n",
       "      <td>14</td>\n",
       "      <td>4</td>\n",
       "      <td>Mar-May</td>\n",
       "      <td>Friends</td>\n",
       "      <td>NO</td>\n",
       "      <td>YES</td>\n",
       "      <td>NO</td>\n",
       "      <td>NO</td>\n",
       "      <td>YES</td>\n",
       "      <td>YES</td>\n",
       "      <td>Circus Circus Hotel &amp; Casino Las Vegas</td>\n",
       "      <td>3</td>\n",
       "      <td>3773</td>\n",
       "      <td>Europe</td>\n",
       "      <td>6</td>\n",
       "      <td>February</td>\n",
       "      <td>Friday</td>\n",
       "    </tr>\n",
       "    <tr>\n",
       "      <th>4</th>\n",
       "      <td>Canada</td>\n",
       "      <td>5</td>\n",
       "      <td>5</td>\n",
       "      <td>2</td>\n",
       "      <td>4</td>\n",
       "      <td>Mar-May</td>\n",
       "      <td>Solo</td>\n",
       "      <td>NO</td>\n",
       "      <td>YES</td>\n",
       "      <td>NO</td>\n",
       "      <td>NO</td>\n",
       "      <td>YES</td>\n",
       "      <td>YES</td>\n",
       "      <td>Circus Circus Hotel &amp; Casino Las Vegas</td>\n",
       "      <td>3</td>\n",
       "      <td>3773</td>\n",
       "      <td>North America</td>\n",
       "      <td>7</td>\n",
       "      <td>March</td>\n",
       "      <td>Tuesday</td>\n",
       "    </tr>\n",
       "  </tbody>\n",
       "</table>\n",
       "</div>"
      ],
      "text/plain": [
       "  User country  Nr. reviews  Nr. hotel reviews  Helpful votes  Score  \\\n",
       "0          USA           11                  4             13      5   \n",
       "1          USA          119                 21             75      3   \n",
       "2          USA           36                  9             25      5   \n",
       "3           UK           14                  7             14      4   \n",
       "4       Canada            5                  5              2      4   \n",
       "\n",
       "  Period of stay Traveler type Pool  Gym Tennis court Spa Casino  \\\n",
       "0        Dec-Feb       Friends   NO  YES           NO  NO    YES   \n",
       "1        Dec-Feb      Business   NO  YES           NO  NO    YES   \n",
       "2        Mar-May      Families   NO  YES           NO  NO    YES   \n",
       "3        Mar-May       Friends   NO  YES           NO  NO    YES   \n",
       "4        Mar-May          Solo   NO  YES           NO  NO    YES   \n",
       "\n",
       "  Free internet                              Hotel name  Hotel stars  \\\n",
       "0           YES  Circus Circus Hotel & Casino Las Vegas            3   \n",
       "1           YES  Circus Circus Hotel & Casino Las Vegas            3   \n",
       "2           YES  Circus Circus Hotel & Casino Las Vegas            3   \n",
       "3           YES  Circus Circus Hotel & Casino Las Vegas            3   \n",
       "4           YES  Circus Circus Hotel & Casino Las Vegas            3   \n",
       "\n",
       "   Nr. rooms User continent  Member years Review month Review weekday  \n",
       "0       3773  North America             9      January       Thursday  \n",
       "1       3773  North America             3      January         Friday  \n",
       "2       3773  North America             2     February       Saturday  \n",
       "3       3773         Europe             6     February         Friday  \n",
       "4       3773  North America             7        March        Tuesday  "
      ]
     },
     "execution_count": 258,
     "metadata": {},
     "output_type": "execute_result"
    }
   ],
   "source": [
    "reviews.head()"
   ]
  },
  {
   "cell_type": "markdown",
   "id": "11d8dd3d",
   "metadata": {},
   "source": [
    "The number of reviews of hotels by \"Period of stay\" and by the day of the week, \"Review weekday\". The goal of this visualization is to see what day of the week has the most reviews for each of the four periods of stay."
   ]
  },
  {
   "cell_type": "code",
   "execution_count": 259,
   "id": "fb7f46ad",
   "metadata": {},
   "outputs": [
    {
     "data": {
      "text/plain": [
       "Mar-May    128\n",
       "Jun-Aug    126\n",
       "Sep-Nov    126\n",
       "Dec-Feb    124\n",
       "Name: Period of stay, dtype: int64"
      ]
     },
     "execution_count": 259,
     "metadata": {},
     "output_type": "execute_result"
    }
   ],
   "source": [
    "reviews['Period of stay'].value_counts(dropna = False)"
   ]
  },
  {
   "cell_type": "code",
   "execution_count": 261,
   "id": "a3a6c3c0",
   "metadata": {},
   "outputs": [
    {
     "data": {
      "image/png": "[encoded data removed]",
      "text/plain": [
       "<Figure size 1000x1000 with 4 Axes>"
      ]
     },
     "metadata": {},
     "output_type": "display_data"
    }
   ],
   "source": [
    "# Create a catplot for each \"Period of stay\" broken down by \"Review weekday\"\n",
    "sns.set(font_scale = 0.7)\n",
    "ax = sns.catplot(\n",
    "  # Make sure Review weekday is along the x-axis\n",
    "  x = 'Review weekday',\n",
    "  # Specify Period of stay as the column to create individual graphics for\n",
    "  col = 'Period of stay',\n",
    "  # Specify that a count plot should be created\n",
    "  kind = 'count',\n",
    "  # Wrap the plots after every 2nd graphic.\n",
    "  col_wrap = 2,\n",
    "  data=reviews\n",
    ")\n",
    "plt.show()"
   ]
  },
  {
   "cell_type": "markdown",
   "id": "31570635",
   "metadata": {},
   "source": [
    "Tuesday is the most common review day from Dec through May. But, one of the least common review day from Jun to Nov."
   ]
  },
  {
   "cell_type": "code",
   "execution_count": 263,
   "id": "7812d442",
   "metadata": {},
   "outputs": [
    {
     "data": {
      "image/png": "[encoded data removed]",
      "text/plain": [
       "<Figure size 617.5x500 with 1 Axes>"
      ]
     },
     "metadata": {},
     "output_type": "display_data"
    }
   ],
   "source": [
    "# Adjust the color\n",
    "sns.set(font_scale = 1.0)\n",
    "ax = sns.catplot(\n",
    "  x=\"Free internet\", y=\"Score\",\n",
    "  hue=\"Traveler type\", kind=\"bar\",\n",
    "  data=reviews,\n",
    "  palette=sns.color_palette(\"Set2\")\n",
    ")\n",
    "\n",
    "# Add a title\n",
    "ax.fig.suptitle(\"Hotel Score by Traveler Type and Free Internet Access\")\n",
    "# Update the axis labels\n",
    "ax.set_axis_labels(\"Free Internet\", \"Average Review Rating\")\n",
    "\n",
    "# Adjust the starting height of the graphic\n",
    "plt.subplots_adjust(top=0.93)\n",
    "plt.show()"
   ]
  },
  {
   "cell_type": "markdown",
   "id": "942ecd9a",
   "metadata": {},
   "source": [
    "It looks like free internet really makes a difference, especially for business-related travelers. It is important to create plots that highlight the results you are trying to convey."
   ]
  },
  {
   "cell_type": "markdown",
   "id": "01952195",
   "metadata": {},
   "source": [
    "# Categorical pitfalls"
   ]
  },
  {
   "cell_type": "markdown",
   "id": "7aa9191a",
   "metadata": {},
   "source": [
    "used_cars = pd.read_csv('/Users/mishudhar/Downloads/Categorcal_Python/cars.csv')"
   ]
  },
  {
   "cell_type": "markdown",
   "id": "781d50b3",
   "metadata": {},
   "source": [
    "Check and Convert"
   ]
  },
  {
   "cell_type": "code",
   "execution_count": 271,
   "id": "5ba7ae72",
   "metadata": {},
   "outputs": [
    {
     "data": {
      "text/plain": [
       "dtype('O')"
      ]
     },
     "execution_count": 271,
     "metadata": {},
     "output_type": "execute_result"
    }
   ],
   "source": [
    "used_cars['color'].dtype"
   ]
  },
  {
   "cell_type": "code",
   "execution_count": 274,
   "id": "9408748f",
   "metadata": {},
   "outputs": [
    {
     "data": {
      "text/html": [
       "<div>\n",
       "<style scoped>\n",
       "    .dataframe tbody tr th:only-of-type {\n",
       "        vertical-align: middle;\n",
       "    }\n",
       "\n",
       "    .dataframe tbody tr th {\n",
       "        vertical-align: top;\n",
       "    }\n",
       "\n",
       "    .dataframe thead th {\n",
       "        text-align: right;\n",
       "    }\n",
       "</style>\n",
       "<table border=\"1\" class=\"dataframe\">\n",
       "  <thead>\n",
       "    <tr style=\"text-align: right;\">\n",
       "      <th></th>\n",
       "      <th>manufacturer_name</th>\n",
       "      <th>model_name</th>\n",
       "      <th>transmission</th>\n",
       "      <th>color</th>\n",
       "      <th>odometer_value</th>\n",
       "      <th>year_produced</th>\n",
       "      <th>engine_fuel</th>\n",
       "      <th>engine_has_gas</th>\n",
       "      <th>engine_type</th>\n",
       "      <th>engine_capacity</th>\n",
       "      <th>...</th>\n",
       "      <th>feature_1</th>\n",
       "      <th>feature_2</th>\n",
       "      <th>feature_3</th>\n",
       "      <th>feature_4</th>\n",
       "      <th>feature_5</th>\n",
       "      <th>feature_6</th>\n",
       "      <th>feature_7</th>\n",
       "      <th>feature_8</th>\n",
       "      <th>feature_9</th>\n",
       "      <th>duration_listed</th>\n",
       "    </tr>\n",
       "  </thead>\n",
       "  <tbody>\n",
       "    <tr>\n",
       "      <th>0</th>\n",
       "      <td>Subaru</td>\n",
       "      <td>Outback</td>\n",
       "      <td>automatic</td>\n",
       "      <td>silver</td>\n",
       "      <td>190000</td>\n",
       "      <td>2010</td>\n",
       "      <td>gasoline</td>\n",
       "      <td>False</td>\n",
       "      <td>gasoline</td>\n",
       "      <td>2.5</td>\n",
       "      <td>...</td>\n",
       "      <td>True</td>\n",
       "      <td>True</td>\n",
       "      <td>True</td>\n",
       "      <td>False</td>\n",
       "      <td>True</td>\n",
       "      <td>False</td>\n",
       "      <td>True</td>\n",
       "      <td>True</td>\n",
       "      <td>True</td>\n",
       "      <td>16</td>\n",
       "    </tr>\n",
       "    <tr>\n",
       "      <th>1</th>\n",
       "      <td>Subaru</td>\n",
       "      <td>Outback</td>\n",
       "      <td>automatic</td>\n",
       "      <td>blue</td>\n",
       "      <td>290000</td>\n",
       "      <td>2002</td>\n",
       "      <td>gasoline</td>\n",
       "      <td>False</td>\n",
       "      <td>gasoline</td>\n",
       "      <td>3.0</td>\n",
       "      <td>...</td>\n",
       "      <td>True</td>\n",
       "      <td>False</td>\n",
       "      <td>False</td>\n",
       "      <td>True</td>\n",
       "      <td>True</td>\n",
       "      <td>False</td>\n",
       "      <td>False</td>\n",
       "      <td>False</td>\n",
       "      <td>True</td>\n",
       "      <td>83</td>\n",
       "    </tr>\n",
       "    <tr>\n",
       "      <th>2</th>\n",
       "      <td>Subaru</td>\n",
       "      <td>Forester</td>\n",
       "      <td>automatic</td>\n",
       "      <td>red</td>\n",
       "      <td>402000</td>\n",
       "      <td>2001</td>\n",
       "      <td>gasoline</td>\n",
       "      <td>False</td>\n",
       "      <td>gasoline</td>\n",
       "      <td>2.5</td>\n",
       "      <td>...</td>\n",
       "      <td>True</td>\n",
       "      <td>False</td>\n",
       "      <td>False</td>\n",
       "      <td>False</td>\n",
       "      <td>False</td>\n",
       "      <td>False</td>\n",
       "      <td>False</td>\n",
       "      <td>True</td>\n",
       "      <td>True</td>\n",
       "      <td>151</td>\n",
       "    </tr>\n",
       "    <tr>\n",
       "      <th>3</th>\n",
       "      <td>Subaru</td>\n",
       "      <td>Impreza</td>\n",
       "      <td>mechanical</td>\n",
       "      <td>blue</td>\n",
       "      <td>10000</td>\n",
       "      <td>1999</td>\n",
       "      <td>gasoline</td>\n",
       "      <td>False</td>\n",
       "      <td>gasoline</td>\n",
       "      <td>3.0</td>\n",
       "      <td>...</td>\n",
       "      <td>False</td>\n",
       "      <td>False</td>\n",
       "      <td>False</td>\n",
       "      <td>False</td>\n",
       "      <td>False</td>\n",
       "      <td>False</td>\n",
       "      <td>False</td>\n",
       "      <td>False</td>\n",
       "      <td>False</td>\n",
       "      <td>86</td>\n",
       "    </tr>\n",
       "    <tr>\n",
       "      <th>4</th>\n",
       "      <td>Subaru</td>\n",
       "      <td>Legacy</td>\n",
       "      <td>automatic</td>\n",
       "      <td>black</td>\n",
       "      <td>280000</td>\n",
       "      <td>2001</td>\n",
       "      <td>gasoline</td>\n",
       "      <td>False</td>\n",
       "      <td>gasoline</td>\n",
       "      <td>2.5</td>\n",
       "      <td>...</td>\n",
       "      <td>True</td>\n",
       "      <td>False</td>\n",
       "      <td>True</td>\n",
       "      <td>True</td>\n",
       "      <td>False</td>\n",
       "      <td>False</td>\n",
       "      <td>False</td>\n",
       "      <td>False</td>\n",
       "      <td>True</td>\n",
       "      <td>7</td>\n",
       "    </tr>\n",
       "    <tr>\n",
       "      <th>...</th>\n",
       "      <td>...</td>\n",
       "      <td>...</td>\n",
       "      <td>...</td>\n",
       "      <td>...</td>\n",
       "      <td>...</td>\n",
       "      <td>...</td>\n",
       "      <td>...</td>\n",
       "      <td>...</td>\n",
       "      <td>...</td>\n",
       "      <td>...</td>\n",
       "      <td>...</td>\n",
       "      <td>...</td>\n",
       "      <td>...</td>\n",
       "      <td>...</td>\n",
       "      <td>...</td>\n",
       "      <td>...</td>\n",
       "      <td>...</td>\n",
       "      <td>...</td>\n",
       "      <td>...</td>\n",
       "      <td>...</td>\n",
       "      <td>...</td>\n",
       "    </tr>\n",
       "    <tr>\n",
       "      <th>38526</th>\n",
       "      <td>Chrysler</td>\n",
       "      <td>300</td>\n",
       "      <td>automatic</td>\n",
       "      <td>silver</td>\n",
       "      <td>290000</td>\n",
       "      <td>2000</td>\n",
       "      <td>gasoline</td>\n",
       "      <td>False</td>\n",
       "      <td>gasoline</td>\n",
       "      <td>3.5</td>\n",
       "      <td>...</td>\n",
       "      <td>True</td>\n",
       "      <td>False</td>\n",
       "      <td>False</td>\n",
       "      <td>True</td>\n",
       "      <td>True</td>\n",
       "      <td>False</td>\n",
       "      <td>False</td>\n",
       "      <td>True</td>\n",
       "      <td>True</td>\n",
       "      <td>301</td>\n",
       "    </tr>\n",
       "    <tr>\n",
       "      <th>38527</th>\n",
       "      <td>Chrysler</td>\n",
       "      <td>PT Cruiser</td>\n",
       "      <td>mechanical</td>\n",
       "      <td>blue</td>\n",
       "      <td>321000</td>\n",
       "      <td>2004</td>\n",
       "      <td>diesel</td>\n",
       "      <td>False</td>\n",
       "      <td>diesel</td>\n",
       "      <td>2.2</td>\n",
       "      <td>...</td>\n",
       "      <td>True</td>\n",
       "      <td>False</td>\n",
       "      <td>False</td>\n",
       "      <td>True</td>\n",
       "      <td>True</td>\n",
       "      <td>False</td>\n",
       "      <td>False</td>\n",
       "      <td>True</td>\n",
       "      <td>True</td>\n",
       "      <td>317</td>\n",
       "    </tr>\n",
       "    <tr>\n",
       "      <th>38528</th>\n",
       "      <td>Chrysler</td>\n",
       "      <td>300</td>\n",
       "      <td>automatic</td>\n",
       "      <td>blue</td>\n",
       "      <td>777957</td>\n",
       "      <td>2000</td>\n",
       "      <td>gasoline</td>\n",
       "      <td>False</td>\n",
       "      <td>gasoline</td>\n",
       "      <td>3.5</td>\n",
       "      <td>...</td>\n",
       "      <td>True</td>\n",
       "      <td>False</td>\n",
       "      <td>False</td>\n",
       "      <td>True</td>\n",
       "      <td>True</td>\n",
       "      <td>False</td>\n",
       "      <td>False</td>\n",
       "      <td>True</td>\n",
       "      <td>True</td>\n",
       "      <td>369</td>\n",
       "    </tr>\n",
       "    <tr>\n",
       "      <th>38529</th>\n",
       "      <td>Chrysler</td>\n",
       "      <td>PT Cruiser</td>\n",
       "      <td>mechanical</td>\n",
       "      <td>black</td>\n",
       "      <td>20000</td>\n",
       "      <td>2001</td>\n",
       "      <td>gasoline</td>\n",
       "      <td>False</td>\n",
       "      <td>gasoline</td>\n",
       "      <td>2.0</td>\n",
       "      <td>...</td>\n",
       "      <td>True</td>\n",
       "      <td>False</td>\n",
       "      <td>False</td>\n",
       "      <td>False</td>\n",
       "      <td>False</td>\n",
       "      <td>False</td>\n",
       "      <td>False</td>\n",
       "      <td>False</td>\n",
       "      <td>True</td>\n",
       "      <td>490</td>\n",
       "    </tr>\n",
       "    <tr>\n",
       "      <th>38530</th>\n",
       "      <td>Chrysler</td>\n",
       "      <td>Voyager</td>\n",
       "      <td>automatic</td>\n",
       "      <td>silver</td>\n",
       "      <td>297729</td>\n",
       "      <td>2000</td>\n",
       "      <td>gasoline</td>\n",
       "      <td>False</td>\n",
       "      <td>gasoline</td>\n",
       "      <td>2.4</td>\n",
       "      <td>...</td>\n",
       "      <td>False</td>\n",
       "      <td>False</td>\n",
       "      <td>False</td>\n",
       "      <td>False</td>\n",
       "      <td>False</td>\n",
       "      <td>False</td>\n",
       "      <td>False</td>\n",
       "      <td>False</td>\n",
       "      <td>True</td>\n",
       "      <td>632</td>\n",
       "    </tr>\n",
       "  </tbody>\n",
       "</table>\n",
       "<p>38531 rows × 30 columns</p>\n",
       "</div>"
      ],
      "text/plain": [
       "      manufacturer_name  model_name transmission   color  odometer_value  \\\n",
       "0                Subaru     Outback    automatic  silver          190000   \n",
       "1                Subaru     Outback    automatic    blue          290000   \n",
       "2                Subaru    Forester    automatic     red          402000   \n",
       "3                Subaru     Impreza   mechanical    blue           10000   \n",
       "4                Subaru      Legacy    automatic   black          280000   \n",
       "...                 ...         ...          ...     ...             ...   \n",
       "38526          Chrysler         300    automatic  silver          290000   \n",
       "38527          Chrysler  PT Cruiser   mechanical    blue          321000   \n",
       "38528          Chrysler         300    automatic    blue          777957   \n",
       "38529          Chrysler  PT Cruiser   mechanical   black           20000   \n",
       "38530          Chrysler     Voyager    automatic  silver          297729   \n",
       "\n",
       "       year_produced engine_fuel  engine_has_gas engine_type  engine_capacity  \\\n",
       "0               2010    gasoline           False    gasoline              2.5   \n",
       "1               2002    gasoline           False    gasoline              3.0   \n",
       "2               2001    gasoline           False    gasoline              2.5   \n",
       "3               1999    gasoline           False    gasoline              3.0   \n",
       "4               2001    gasoline           False    gasoline              2.5   \n",
       "...              ...         ...             ...         ...              ...   \n",
       "38526           2000    gasoline           False    gasoline              3.5   \n",
       "38527           2004      diesel           False      diesel              2.2   \n",
       "38528           2000    gasoline           False    gasoline              3.5   \n",
       "38529           2001    gasoline           False    gasoline              2.0   \n",
       "38530           2000    gasoline           False    gasoline              2.4   \n",
       "\n",
       "       ... feature_1  feature_2 feature_3 feature_4  feature_5  feature_6  \\\n",
       "0      ...      True       True      True     False       True      False   \n",
       "1      ...      True      False     False      True       True      False   \n",
       "2      ...      True      False     False     False      False      False   \n",
       "3      ...     False      False     False     False      False      False   \n",
       "4      ...      True      False      True      True      False      False   \n",
       "...    ...       ...        ...       ...       ...        ...        ...   \n",
       "38526  ...      True      False     False      True       True      False   \n",
       "38527  ...      True      False     False      True       True      False   \n",
       "38528  ...      True      False     False      True       True      False   \n",
       "38529  ...      True      False     False     False      False      False   \n",
       "38530  ...     False      False     False     False      False      False   \n",
       "\n",
       "      feature_7  feature_8  feature_9  duration_listed  \n",
       "0          True       True       True               16  \n",
       "1         False      False       True               83  \n",
       "2         False       True       True              151  \n",
       "3         False      False      False               86  \n",
       "4         False      False       True                7  \n",
       "...         ...        ...        ...              ...  \n",
       "38526     False       True       True              301  \n",
       "38527     False       True       True              317  \n",
       "38528     False       True       True              369  \n",
       "38529     False      False       True              490  \n",
       "38530     False      False       True              632  \n",
       "\n",
       "[38531 rows x 30 columns]"
      ]
     },
     "execution_count": 274,
     "metadata": {},
     "output_type": "execute_result"
    }
   ],
   "source": [
    "used_cars"
   ]
  },
  {
   "cell_type": "code",
   "execution_count": 275,
   "id": "7b15b9a0",
   "metadata": {},
   "outputs": [
    {
     "ename": "NameError",
     "evalue": "name 'used' is not defined",
     "output_type": "error",
     "traceback": [
      "\u001b[0;31m---------------------------------------------------------------------------\u001b[0m",
      "\u001b[0;31mNameError\u001b[0m                                 Traceback (most recent call last)",
      "\u001b[0;32m/var/folders/41/5qy4wjjs2fv7xjzw2hgjt1vc0000gn/T/ipykernel_22334/610997465.py\u001b[0m in \u001b[0;36m<module>\u001b[0;34m\u001b[0m\n\u001b[0;32m----> 1\u001b[0;31m \u001b[0mused_cars\u001b[0m\u001b[0;34m[\u001b[0m\u001b[0;34m'color'\u001b[0m\u001b[0;34m]\u001b[0m \u001b[0;34m=\u001b[0m \u001b[0mused\u001b[0m\u001b[0;34m[\u001b[0m\u001b[0;34m'cars'\u001b[0m\u001b[0;34m]\u001b[0m\u001b[0;34m.\u001b[0m\u001b[0mastype\u001b[0m\u001b[0;34m(\u001b[0m\u001b[0;34m'category'\u001b[0m\u001b[0;34m)\u001b[0m\u001b[0;34m\u001b[0m\u001b[0;34m\u001b[0m\u001b[0m\n\u001b[0m",
      "\u001b[0;31mNameError\u001b[0m: name 'used' is not defined"
     ]
    }
   ],
   "source": [
    "used_cars['color'] = used['cars'].astype('category')"
   ]
  },
  {
   "cell_type": "code",
   "execution_count": 276,
   "id": "519d6616",
   "metadata": {},
   "outputs": [],
   "source": [
    "cars = pd.read_csv('/Users/mishudhar/Downloads/Categorcal_Python/cars.csv')"
   ]
  },
  {
   "cell_type": "code",
   "execution_count": 277,
   "id": "b6b8bd40",
   "metadata": {},
   "outputs": [],
   "source": [
    "cars['color'] = cars['color'].astype('category')"
   ]
  },
  {
   "cell_type": "code",
   "execution_count": 278,
   "id": "0e8e3985",
   "metadata": {},
   "outputs": [],
   "source": [
    "cars['color'] = cars['color'].str.upper()"
   ]
  },
  {
   "cell_type": "code",
   "execution_count": 279,
   "id": "9389d60d",
   "metadata": {},
   "outputs": [
    {
     "data": {
      "text/plain": [
       "dtype('O')"
      ]
     },
     "execution_count": 279,
     "metadata": {},
     "output_type": "execute_result"
    }
   ],
   "source": [
    "cars['color'].dtype"
   ]
  },
  {
   "cell_type": "markdown",
   "id": "04ccc732",
   "metadata": {},
   "source": [
    "# Note that- whenever we make some changes into categorical data it converts to objects automatically."
   ]
  },
  {
   "cell_type": "code",
   "execution_count": 280,
   "id": "a5d85c2e",
   "metadata": {},
   "outputs": [
    {
     "data": {
      "text/plain": [
       "BLACK     7705\n",
       "SILVER    6852\n",
       "BLUE      5802\n",
       "WHITE     4212\n",
       "GREY      3751\n",
       "RED       2925\n",
       "GREEN     2760\n",
       "OTHER     2688\n",
       "BROWN      886\n",
       "VIOLET     463\n",
       "YELLOW     303\n",
       "ORANGE     184\n",
       "Name: color, dtype: int64"
      ]
     },
     "execution_count": 280,
     "metadata": {},
     "output_type": "execute_result"
    }
   ],
   "source": [
    "cars['color'].value_counts(dropna = False)"
   ]
  },
  {
   "cell_type": "code",
   "execution_count": 282,
   "id": "89c29744",
   "metadata": {},
   "outputs": [
    {
     "data": {
      "text/plain": [
       "dtype('int64')"
      ]
     },
     "execution_count": 282,
     "metadata": {},
     "output_type": "execute_result"
    }
   ],
   "source": [
    "cars['number_of_photos'].dtype"
   ]
  },
  {
   "cell_type": "markdown",
   "id": "1bfc97f5",
   "metadata": {},
   "source": [
    "Using Numpy Array\n",
    "Numpy functions such as Sum(), mean( ) etc provides error for categorical data.\n"
   ]
  },
  {
   "cell_type": "code",
   "execution_count": null,
   "id": "019f5f6e",
   "metadata": {},
   "outputs": [],
   "source": [
    "# However we can convert it into int and perform mthe operations\n",
    "# cars['number_of_photos'].astype('int').sum()\n",
    "\n"
   ]
  },
  {
   "cell_type": "code",
   "execution_count": 283,
   "id": "c624612c",
   "metadata": {},
   "outputs": [
    {
     "name": "stdout",
     "output_type": "stream",
     "text": [
      "sedan        13011\n",
      "hatchback     7644\n",
      "universal     5507\n",
      "suv           5164\n",
      "minivan       3608\n",
      "minibus       1369\n",
      "van            808\n",
      "coupe          652\n",
      "liftback       552\n",
      "pickup         129\n",
      "cabriolet       75\n",
      "limousine       12\n",
      "Name: body_type, dtype: int64\n"
     ]
    }
   ],
   "source": [
    "# Print the frequency table of body_type and include NaN values\n",
    "print(used_cars['body_type'].value_counts(dropna = False))\n"
   ]
  },
  {
   "cell_type": "code",
   "execution_count": 284,
   "id": "b1ad1216",
   "metadata": {},
   "outputs": [],
   "source": [
    "# # Update NaN values\n",
    "# used_cars.loc[used_cars[\"body_type\"].isna(), \"body_type\"] = \"other"
   ]
  },
  {
   "cell_type": "code",
   "execution_count": 286,
   "id": "447a6d44",
   "metadata": {},
   "outputs": [
    {
     "ename": "KeyError",
     "evalue": "'Sale Rating'",
     "output_type": "error",
     "traceback": [
      "\u001b[0;31m---------------------------------------------------------------------------\u001b[0m",
      "\u001b[0;31mKeyError\u001b[0m                                  Traceback (most recent call last)",
      "\u001b[0;32m/opt/anaconda3/lib/python3.9/site-packages/pandas/core/indexes/base.py\u001b[0m in \u001b[0;36mget_loc\u001b[0;34m(self, key, method, tolerance)\u001b[0m\n\u001b[1;32m   3628\u001b[0m             \u001b[0;32mtry\u001b[0m\u001b[0;34m:\u001b[0m\u001b[0;34m\u001b[0m\u001b[0;34m\u001b[0m\u001b[0m\n\u001b[0;32m-> 3629\u001b[0;31m                 \u001b[0;32mreturn\u001b[0m \u001b[0mself\u001b[0m\u001b[0;34m.\u001b[0m\u001b[0m_engine\u001b[0m\u001b[0;34m.\u001b[0m\u001b[0mget_loc\u001b[0m\u001b[0;34m(\u001b[0m\u001b[0mcasted_key\u001b[0m\u001b[0;34m)\u001b[0m\u001b[0;34m\u001b[0m\u001b[0;34m\u001b[0m\u001b[0m\n\u001b[0m\u001b[1;32m   3630\u001b[0m             \u001b[0;32mexcept\u001b[0m \u001b[0mKeyError\u001b[0m \u001b[0;32mas\u001b[0m \u001b[0merr\u001b[0m\u001b[0;34m:\u001b[0m\u001b[0;34m\u001b[0m\u001b[0;34m\u001b[0m\u001b[0m\n",
      "\u001b[0;32m/opt/anaconda3/lib/python3.9/site-packages/pandas/_libs/index.pyx\u001b[0m in \u001b[0;36mpandas._libs.index.IndexEngine.get_loc\u001b[0;34m()\u001b[0m\n",
      "\u001b[0;32m/opt/anaconda3/lib/python3.9/site-packages/pandas/_libs/index.pyx\u001b[0m in \u001b[0;36mpandas._libs.index.IndexEngine.get_loc\u001b[0;34m()\u001b[0m\n",
      "\u001b[0;32mpandas/_libs/hashtable_class_helper.pxi\u001b[0m in \u001b[0;36mpandas._libs.hashtable.PyObjectHashTable.get_item\u001b[0;34m()\u001b[0m\n",
      "\u001b[0;32mpandas/_libs/hashtable_class_helper.pxi\u001b[0m in \u001b[0;36mpandas._libs.hashtable.PyObjectHashTable.get_item\u001b[0;34m()\u001b[0m\n",
      "\u001b[0;31mKeyError\u001b[0m: 'Sale Rating'",
      "\nThe above exception was the direct cause of the following exception:\n",
      "\u001b[0;31mKeyError\u001b[0m                                  Traceback (most recent call last)",
      "\u001b[0;32m/var/folders/41/5qy4wjjs2fv7xjzw2hgjt1vc0000gn/T/ipykernel_22334/866300876.py\u001b[0m in \u001b[0;36m<module>\u001b[0;34m\u001b[0m\n\u001b[1;32m      1\u001b[0m \u001b[0;31m# Print the frequency table of Sale Rating\u001b[0m\u001b[0;34m\u001b[0m\u001b[0;34m\u001b[0m\u001b[0m\n\u001b[0;32m----> 2\u001b[0;31m \u001b[0mprint\u001b[0m\u001b[0;34m(\u001b[0m\u001b[0mcars\u001b[0m\u001b[0;34m[\u001b[0m\u001b[0;34m\"Sale Rating\"\u001b[0m\u001b[0;34m]\u001b[0m\u001b[0;34m.\u001b[0m\u001b[0mvalue_counts\u001b[0m\u001b[0;34m(\u001b[0m\u001b[0;34m)\u001b[0m\u001b[0;34m)\u001b[0m\u001b[0;34m\u001b[0m\u001b[0;34m\u001b[0m\u001b[0m\n\u001b[0m",
      "\u001b[0;32m/opt/anaconda3/lib/python3.9/site-packages/pandas/core/frame.py\u001b[0m in \u001b[0;36m__getitem__\u001b[0;34m(self, key)\u001b[0m\n\u001b[1;32m   3503\u001b[0m             \u001b[0;32mif\u001b[0m \u001b[0mself\u001b[0m\u001b[0;34m.\u001b[0m\u001b[0mcolumns\u001b[0m\u001b[0;34m.\u001b[0m\u001b[0mnlevels\u001b[0m \u001b[0;34m>\u001b[0m \u001b[0;36m1\u001b[0m\u001b[0;34m:\u001b[0m\u001b[0;34m\u001b[0m\u001b[0;34m\u001b[0m\u001b[0m\n\u001b[1;32m   3504\u001b[0m                 \u001b[0;32mreturn\u001b[0m \u001b[0mself\u001b[0m\u001b[0;34m.\u001b[0m\u001b[0m_getitem_multilevel\u001b[0m\u001b[0;34m(\u001b[0m\u001b[0mkey\u001b[0m\u001b[0;34m)\u001b[0m\u001b[0;34m\u001b[0m\u001b[0;34m\u001b[0m\u001b[0m\n\u001b[0;32m-> 3505\u001b[0;31m             \u001b[0mindexer\u001b[0m \u001b[0;34m=\u001b[0m \u001b[0mself\u001b[0m\u001b[0;34m.\u001b[0m\u001b[0mcolumns\u001b[0m\u001b[0;34m.\u001b[0m\u001b[0mget_loc\u001b[0m\u001b[0;34m(\u001b[0m\u001b[0mkey\u001b[0m\u001b[0;34m)\u001b[0m\u001b[0;34m\u001b[0m\u001b[0;34m\u001b[0m\u001b[0m\n\u001b[0m\u001b[1;32m   3506\u001b[0m             \u001b[0;32mif\u001b[0m \u001b[0mis_integer\u001b[0m\u001b[0;34m(\u001b[0m\u001b[0mindexer\u001b[0m\u001b[0;34m)\u001b[0m\u001b[0;34m:\u001b[0m\u001b[0;34m\u001b[0m\u001b[0;34m\u001b[0m\u001b[0m\n\u001b[1;32m   3507\u001b[0m                 \u001b[0mindexer\u001b[0m \u001b[0;34m=\u001b[0m \u001b[0;34m[\u001b[0m\u001b[0mindexer\u001b[0m\u001b[0;34m]\u001b[0m\u001b[0;34m\u001b[0m\u001b[0;34m\u001b[0m\u001b[0m\n",
      "\u001b[0;32m/opt/anaconda3/lib/python3.9/site-packages/pandas/core/indexes/base.py\u001b[0m in \u001b[0;36mget_loc\u001b[0;34m(self, key, method, tolerance)\u001b[0m\n\u001b[1;32m   3629\u001b[0m                 \u001b[0;32mreturn\u001b[0m \u001b[0mself\u001b[0m\u001b[0;34m.\u001b[0m\u001b[0m_engine\u001b[0m\u001b[0;34m.\u001b[0m\u001b[0mget_loc\u001b[0m\u001b[0;34m(\u001b[0m\u001b[0mcasted_key\u001b[0m\u001b[0;34m)\u001b[0m\u001b[0;34m\u001b[0m\u001b[0;34m\u001b[0m\u001b[0m\n\u001b[1;32m   3630\u001b[0m             \u001b[0;32mexcept\u001b[0m \u001b[0mKeyError\u001b[0m \u001b[0;32mas\u001b[0m \u001b[0merr\u001b[0m\u001b[0;34m:\u001b[0m\u001b[0;34m\u001b[0m\u001b[0;34m\u001b[0m\u001b[0m\n\u001b[0;32m-> 3631\u001b[0;31m                 \u001b[0;32mraise\u001b[0m \u001b[0mKeyError\u001b[0m\u001b[0;34m(\u001b[0m\u001b[0mkey\u001b[0m\u001b[0;34m)\u001b[0m \u001b[0;32mfrom\u001b[0m \u001b[0merr\u001b[0m\u001b[0;34m\u001b[0m\u001b[0;34m\u001b[0m\u001b[0m\n\u001b[0m\u001b[1;32m   3632\u001b[0m             \u001b[0;32mexcept\u001b[0m \u001b[0mTypeError\u001b[0m\u001b[0;34m:\u001b[0m\u001b[0;34m\u001b[0m\u001b[0;34m\u001b[0m\u001b[0m\n\u001b[1;32m   3633\u001b[0m                 \u001b[0;31m# If we have a listlike key, _check_indexing_error will raise\u001b[0m\u001b[0;34m\u001b[0m\u001b[0;34m\u001b[0m\u001b[0m\n",
      "\u001b[0;31mKeyError\u001b[0m: 'Sale Rating'"
     ]
    }
   ],
   "source": [
    "# Print the frequency table of Sale Rating\n",
    "print(cars[\"Sale Rating\"].value_counts())"
   ]
  },
  {
   "cell_type": "code",
   "execution_count": 288,
   "id": "cb149c76",
   "metadata": {},
   "outputs": [
    {
     "data": {
      "text/plain": [
       "['manufacturer_name',\n",
       " 'model_name',\n",
       " 'transmission',\n",
       " 'color',\n",
       " 'odometer_value',\n",
       " 'year_produced',\n",
       " 'engine_fuel',\n",
       " 'engine_has_gas',\n",
       " 'engine_type',\n",
       " 'engine_capacity',\n",
       " 'body_type',\n",
       " 'has_warranty',\n",
       " 'state',\n",
       " 'drivetrain',\n",
       " 'price_usd',\n",
       " 'is_exchangeable',\n",
       " 'location_region',\n",
       " 'number_of_photos',\n",
       " 'up_counter',\n",
       " 'feature_0',\n",
       " 'feature_1',\n",
       " 'feature_2',\n",
       " 'feature_3',\n",
       " 'feature_4',\n",
       " 'feature_5',\n",
       " 'feature_6',\n",
       " 'feature_7',\n",
       " 'feature_8',\n",
       " 'feature_9',\n",
       " 'duration_listed']"
      ]
     },
     "execution_count": 288,
     "metadata": {},
     "output_type": "execute_result"
    }
   ],
   "source": [
    "list(cars.columns)"
   ]
  },
  {
   "cell_type": "markdown",
   "id": "484e77bd",
   "metadata": {},
   "source": [
    "# Label encoding\n"
   ]
  },
  {
   "cell_type": "code",
   "execution_count": 290,
   "id": "08845368",
   "metadata": {},
   "outputs": [
    {
     "data": {
      "text/plain": [
       "dtype('O')"
      ]
     },
     "execution_count": 290,
     "metadata": {},
     "output_type": "execute_result"
    }
   ],
   "source": [
    "cars['manufacturer_name'].dtype"
   ]
  },
  {
   "cell_type": "code",
   "execution_count": 292,
   "id": "2e1dfca4",
   "metadata": {},
   "outputs": [],
   "source": [
    "# Code that will contain the numerical values of the labels\n",
    "cars['manufacturer_name'] = cars['manufacturer_name'].astype('category')"
   ]
  },
  {
   "cell_type": "code",
   "execution_count": 296,
   "id": "3cc1aaa0",
   "metadata": {},
   "outputs": [
    {
     "data": {
      "text/html": [
       "<div>\n",
       "<style scoped>\n",
       "    .dataframe tbody tr th:only-of-type {\n",
       "        vertical-align: middle;\n",
       "    }\n",
       "\n",
       "    .dataframe tbody tr th {\n",
       "        vertical-align: top;\n",
       "    }\n",
       "\n",
       "    .dataframe thead th {\n",
       "        text-align: right;\n",
       "    }\n",
       "</style>\n",
       "<table border=\"1\" class=\"dataframe\">\n",
       "  <thead>\n",
       "    <tr style=\"text-align: right;\">\n",
       "      <th></th>\n",
       "      <th>manufacturer_code</th>\n",
       "      <th>manufacturer_name</th>\n",
       "    </tr>\n",
       "  </thead>\n",
       "  <tbody>\n",
       "    <tr>\n",
       "      <th>0</th>\n",
       "      <td>45</td>\n",
       "      <td>Subaru</td>\n",
       "    </tr>\n",
       "    <tr>\n",
       "      <th>1</th>\n",
       "      <td>45</td>\n",
       "      <td>Subaru</td>\n",
       "    </tr>\n",
       "    <tr>\n",
       "      <th>2</th>\n",
       "      <td>45</td>\n",
       "      <td>Subaru</td>\n",
       "    </tr>\n",
       "    <tr>\n",
       "      <th>3</th>\n",
       "      <td>45</td>\n",
       "      <td>Subaru</td>\n",
       "    </tr>\n",
       "    <tr>\n",
       "      <th>4</th>\n",
       "      <td>45</td>\n",
       "      <td>Subaru</td>\n",
       "    </tr>\n",
       "    <tr>\n",
       "      <th>...</th>\n",
       "      <td>...</td>\n",
       "      <td>...</td>\n",
       "    </tr>\n",
       "    <tr>\n",
       "      <th>38526</th>\n",
       "      <td>8</td>\n",
       "      <td>Chrysler</td>\n",
       "    </tr>\n",
       "    <tr>\n",
       "      <th>38527</th>\n",
       "      <td>8</td>\n",
       "      <td>Chrysler</td>\n",
       "    </tr>\n",
       "    <tr>\n",
       "      <th>38528</th>\n",
       "      <td>8</td>\n",
       "      <td>Chrysler</td>\n",
       "    </tr>\n",
       "    <tr>\n",
       "      <th>38529</th>\n",
       "      <td>8</td>\n",
       "      <td>Chrysler</td>\n",
       "    </tr>\n",
       "    <tr>\n",
       "      <th>38530</th>\n",
       "      <td>8</td>\n",
       "      <td>Chrysler</td>\n",
       "    </tr>\n",
       "  </tbody>\n",
       "</table>\n",
       "<p>38531 rows × 2 columns</p>\n",
       "</div>"
      ],
      "text/plain": [
       "       manufacturer_code manufacturer_name\n",
       "0                     45            Subaru\n",
       "1                     45            Subaru\n",
       "2                     45            Subaru\n",
       "3                     45            Subaru\n",
       "4                     45            Subaru\n",
       "...                  ...               ...\n",
       "38526                  8          Chrysler\n",
       "38527                  8          Chrysler\n",
       "38528                  8          Chrysler\n",
       "38529                  8          Chrysler\n",
       "38530                  8          Chrysler\n",
       "\n",
       "[38531 rows x 2 columns]"
      ]
     },
     "execution_count": 296,
     "metadata": {},
     "output_type": "execute_result"
    }
   ],
   "source": [
    "cars['manufacturer_code'] = cars['manufacturer_name'].cat.codes\n",
    "cars[['manufacturer_code', 'manufacturer_name']]"
   ]
  },
  {
   "cell_type": "markdown",
   "id": "dc3c506c",
   "metadata": {},
   "source": [
    "# Creating a codebook\n"
   ]
  },
  {
   "cell_type": "code",
   "execution_count": 298,
   "id": "8e45a776",
   "metadata": {},
   "outputs": [
    {
     "data": {
      "text/plain": [
       "{45: 'Subaru',\n",
       " 24: 'LADA',\n",
       " 12: 'Dodge',\n",
       " 54: 'УАЗ',\n",
       " 23: 'Kia',\n",
       " 35: 'Opel',\n",
       " 53: 'Москвич',\n",
       " 1: 'Alfa Romeo',\n",
       " 0: 'Acura',\n",
       " 10: 'Dacia',\n",
       " 27: 'Lexus',\n",
       " 33: 'Mitsubishi',\n",
       " 25: 'Lancia',\n",
       " 9: 'Citroen',\n",
       " 32: 'Mini',\n",
       " 21: 'Jaguar',\n",
       " 38: 'Porsche',\n",
       " 44: 'SsangYong',\n",
       " 11: 'Daewoo',\n",
       " 15: 'Geely',\n",
       " 50: 'ВАЗ',\n",
       " 13: 'Fiat',\n",
       " 14: 'Ford',\n",
       " 39: 'Renault',\n",
       " 42: 'Seat',\n",
       " 40: 'Rover',\n",
       " 48: 'Volkswagen',\n",
       " 28: 'Lifan',\n",
       " 22: 'Jeep',\n",
       " 5: 'Cadillac',\n",
       " 2: 'Audi',\n",
       " 52: 'ЗАЗ',\n",
       " 47: 'Toyota',\n",
       " 51: 'ГАЗ',\n",
       " 49: 'Volvo',\n",
       " 7: 'Chevrolet',\n",
       " 16: 'Great Wall',\n",
       " 4: 'Buick',\n",
       " 37: 'Pontiac',\n",
       " 29: 'Lincoln',\n",
       " 18: 'Hyundai',\n",
       " 34: 'Nissan',\n",
       " 46: 'Suzuki',\n",
       " 3: 'BMW',\n",
       " 30: 'Mazda',\n",
       " 26: 'Land Rover',\n",
       " 20: 'Iveco',\n",
       " 43: 'Skoda',\n",
       " 41: 'Saab',\n",
       " 19: 'Infiniti',\n",
       " 6: 'Chery',\n",
       " 17: 'Honda',\n",
       " 31: 'Mercedes-Benz',\n",
       " 36: 'Peugeot',\n",
       " 8: 'Chrysler'}"
      ]
     },
     "execution_count": 298,
     "metadata": {},
     "output_type": "execute_result"
    }
   ],
   "source": [
    "codes = cars['manufacturer_name'].cat.codes\n",
    "categories = cars['manufacturer_name']\n",
    "name_map = dict(zip(codes, categories))\n",
    "name_map"
   ]
  },
  {
   "cell_type": "code",
   "execution_count": 299,
   "id": "d93abc40",
   "metadata": {},
   "outputs": [
    {
     "data": {
      "text/plain": [
       "0          Subaru\n",
       "1          Subaru\n",
       "2          Subaru\n",
       "3          Subaru\n",
       "4          Subaru\n",
       "           ...   \n",
       "38526    Chrysler\n",
       "38527    Chrysler\n",
       "38528    Chrysler\n",
       "38529    Chrysler\n",
       "38530    Chrysler\n",
       "Name: manufacturer_code, Length: 38531, dtype: object"
      ]
     },
     "execution_count": 299,
     "metadata": {},
     "output_type": "execute_result"
    }
   ],
   "source": [
    "# creating the code\n",
    "cars['manufacturer_code'] = cars['manufacturer_name'].cat.codes\n",
    "\n",
    "# Reverting to previous values\n",
    "cars['manufacturer_code'].map(name_map)"
   ]
  },
  {
   "cell_type": "markdown",
   "id": "c13ee29d",
   "metadata": {},
   "source": [
    "# Boolean Coding\n",
    "When creating a label encoding for a categorical columns, it is common to create a Boolean code that represents a group of categories."
   ]
  },
  {
   "cell_type": "code",
   "execution_count": 300,
   "id": "7d6c2093",
   "metadata": {},
   "outputs": [
    {
     "data": {
      "text/plain": [
       "0        False\n",
       "1        False\n",
       "2        False\n",
       "3        False\n",
       "4        False\n",
       "         ...  \n",
       "38526    False\n",
       "38527    False\n",
       "38528    False\n",
       "38529    False\n",
       "38530    False\n",
       "Name: body_type, Length: 38531, dtype: bool"
      ]
     },
     "execution_count": 300,
     "metadata": {},
     "output_type": "execute_result"
    }
   ],
   "source": [
    "# For example: we wanted to create a boolean code for all cars that were vans.\n",
    "cars['body_type'].str.contains('vans', regex = False)"
   ]
  },
  {
   "cell_type": "markdown",
   "id": "eaacf26e",
   "metadata": {},
   "source": [
    "Creating aboolean coding"
   ]
  },
  {
   "cell_type": "code",
   "execution_count": 304,
   "id": "2f1b7d81",
   "metadata": {},
   "outputs": [],
   "source": [
    "cars['van_coding'] = np.where(cars['body_type'].str.contains('van', regex = False), 1, 0)"
   ]
  },
  {
   "cell_type": "markdown",
   "id": "c52b5a3e",
   "metadata": {},
   "source": [
    "This code above ommands whenever it will see a van it will be 1 or for any other type it will be 0"
   ]
  },
  {
   "cell_type": "code",
   "execution_count": 305,
   "id": "d1d85ba6",
   "metadata": {},
   "outputs": [
    {
     "data": {
      "text/plain": [
       "0    34115\n",
       "1     4416\n",
       "Name: van_coding, dtype: int64"
      ]
     },
     "execution_count": 305,
     "metadata": {},
     "output_type": "execute_result"
    }
   ],
   "source": [
    "cars['van_coding'].value_counts()"
   ]
  },
  {
   "cell_type": "code",
   "execution_count": 306,
   "id": "0eef144e",
   "metadata": {},
   "outputs": [
    {
     "data": {
      "text/plain": [
       "0        SILVER\n",
       "1          BLUE\n",
       "2           RED\n",
       "3          BLUE\n",
       "4         BLACK\n",
       "          ...  \n",
       "38526    SILVER\n",
       "38527      BLUE\n",
       "38528      BLUE\n",
       "38529     BLACK\n",
       "38530    SILVER\n",
       "Name: color, Length: 38531, dtype: object"
      ]
     },
     "execution_count": 306,
     "metadata": {},
     "output_type": "execute_result"
    }
   ],
   "source": [
    "cars['color']"
   ]
  },
  {
   "cell_type": "code",
   "execution_count": 307,
   "id": "b1e5e517",
   "metadata": {},
   "outputs": [
    {
     "name": "stdout",
     "output_type": "stream",
     "text": [
      "black     7705\n",
      "silver    6852\n",
      "blue      5802\n",
      "white     4212\n",
      "grey      3751\n",
      "red       2925\n",
      "green     2760\n",
      "other     2688\n",
      "brown      886\n",
      "violet     463\n",
      "yellow     303\n",
      "orange     184\n",
      "Name: color, dtype: int64\n"
     ]
    }
   ],
   "source": [
    "used_cars[\"color\"] = used_cars['color'].astype('category')\n",
    "print(used_cars[\"color\"].value_counts())"
   ]
  },
  {
   "cell_type": "code",
   "execution_count": 310,
   "id": "2c50d349",
   "metadata": {},
   "outputs": [],
   "source": [
    "# Create a label encoding\n",
    "cars[\"color_code\"] = used_cars['color'].cat.codes"
   ]
  },
  {
   "cell_type": "code",
   "execution_count": 312,
   "id": "614d1f6c",
   "metadata": {},
   "outputs": [
    {
     "data": {
      "text/plain": [
       "{8: 'SILVER',\n",
       " 1: 'BLUE',\n",
       " 7: 'RED',\n",
       " 0: 'BLACK',\n",
       " 4: 'GREY',\n",
       " 6: 'OTHER',\n",
       " 2: 'BROWN',\n",
       " 10: 'WHITE',\n",
       " 3: 'GREEN',\n",
       " 9: 'VIOLET',\n",
       " 5: 'ORANGE',\n",
       " 11: 'YELLOW'}"
      ]
     },
     "execution_count": 312,
     "metadata": {},
     "output_type": "execute_result"
    }
   ],
   "source": [
    "# Create codes and categories objects\n",
    "codes = cars['color_code']\n",
    "categories = cars[\"color\"]\n",
    "color_map = dict(zip(codes, categories))\n",
    "color_map"
   ]
  },
  {
   "cell_type": "markdown",
   "id": "c360a53b",
   "metadata": {},
   "source": [
    "WE successfully created a label encoding for the color column. Creating an encoding like this can save on memory and improve performance. Reading and writing files that use codes instead of strings can save a lot of time."
   ]
  },
  {
   "cell_type": "code",
   "execution_count": 313,
   "id": "5cb0aa4a",
   "metadata": {},
   "outputs": [
    {
     "data": {
      "text/html": [
       "<div>\n",
       "<style scoped>\n",
       "    .dataframe tbody tr th:only-of-type {\n",
       "        vertical-align: middle;\n",
       "    }\n",
       "\n",
       "    .dataframe tbody tr th {\n",
       "        vertical-align: top;\n",
       "    }\n",
       "\n",
       "    .dataframe thead th {\n",
       "        text-align: right;\n",
       "    }\n",
       "</style>\n",
       "<table border=\"1\" class=\"dataframe\">\n",
       "  <thead>\n",
       "    <tr style=\"text-align: right;\">\n",
       "      <th></th>\n",
       "      <th>manufacturer_name</th>\n",
       "      <th>model_name</th>\n",
       "      <th>transmission</th>\n",
       "      <th>color</th>\n",
       "      <th>odometer_value</th>\n",
       "      <th>year_produced</th>\n",
       "      <th>engine_fuel</th>\n",
       "      <th>engine_has_gas</th>\n",
       "      <th>engine_type</th>\n",
       "      <th>engine_capacity</th>\n",
       "      <th>...</th>\n",
       "      <th>feature_4</th>\n",
       "      <th>feature_5</th>\n",
       "      <th>feature_6</th>\n",
       "      <th>feature_7</th>\n",
       "      <th>feature_8</th>\n",
       "      <th>feature_9</th>\n",
       "      <th>duration_listed</th>\n",
       "      <th>manufacturer_code</th>\n",
       "      <th>van_coding</th>\n",
       "      <th>color_code</th>\n",
       "    </tr>\n",
       "  </thead>\n",
       "  <tbody>\n",
       "    <tr>\n",
       "      <th>0</th>\n",
       "      <td>Subaru</td>\n",
       "      <td>Outback</td>\n",
       "      <td>automatic</td>\n",
       "      <td>SILVER</td>\n",
       "      <td>190000</td>\n",
       "      <td>2010</td>\n",
       "      <td>gasoline</td>\n",
       "      <td>False</td>\n",
       "      <td>gasoline</td>\n",
       "      <td>2.5</td>\n",
       "      <td>...</td>\n",
       "      <td>False</td>\n",
       "      <td>True</td>\n",
       "      <td>False</td>\n",
       "      <td>True</td>\n",
       "      <td>True</td>\n",
       "      <td>True</td>\n",
       "      <td>16</td>\n",
       "      <td>45</td>\n",
       "      <td>0</td>\n",
       "      <td>8</td>\n",
       "    </tr>\n",
       "    <tr>\n",
       "      <th>1</th>\n",
       "      <td>Subaru</td>\n",
       "      <td>Outback</td>\n",
       "      <td>automatic</td>\n",
       "      <td>BLUE</td>\n",
       "      <td>290000</td>\n",
       "      <td>2002</td>\n",
       "      <td>gasoline</td>\n",
       "      <td>False</td>\n",
       "      <td>gasoline</td>\n",
       "      <td>3.0</td>\n",
       "      <td>...</td>\n",
       "      <td>True</td>\n",
       "      <td>True</td>\n",
       "      <td>False</td>\n",
       "      <td>False</td>\n",
       "      <td>False</td>\n",
       "      <td>True</td>\n",
       "      <td>83</td>\n",
       "      <td>45</td>\n",
       "      <td>0</td>\n",
       "      <td>1</td>\n",
       "    </tr>\n",
       "    <tr>\n",
       "      <th>2</th>\n",
       "      <td>Subaru</td>\n",
       "      <td>Forester</td>\n",
       "      <td>automatic</td>\n",
       "      <td>RED</td>\n",
       "      <td>402000</td>\n",
       "      <td>2001</td>\n",
       "      <td>gasoline</td>\n",
       "      <td>False</td>\n",
       "      <td>gasoline</td>\n",
       "      <td>2.5</td>\n",
       "      <td>...</td>\n",
       "      <td>False</td>\n",
       "      <td>False</td>\n",
       "      <td>False</td>\n",
       "      <td>False</td>\n",
       "      <td>True</td>\n",
       "      <td>True</td>\n",
       "      <td>151</td>\n",
       "      <td>45</td>\n",
       "      <td>0</td>\n",
       "      <td>7</td>\n",
       "    </tr>\n",
       "    <tr>\n",
       "      <th>3</th>\n",
       "      <td>Subaru</td>\n",
       "      <td>Impreza</td>\n",
       "      <td>mechanical</td>\n",
       "      <td>BLUE</td>\n",
       "      <td>10000</td>\n",
       "      <td>1999</td>\n",
       "      <td>gasoline</td>\n",
       "      <td>False</td>\n",
       "      <td>gasoline</td>\n",
       "      <td>3.0</td>\n",
       "      <td>...</td>\n",
       "      <td>False</td>\n",
       "      <td>False</td>\n",
       "      <td>False</td>\n",
       "      <td>False</td>\n",
       "      <td>False</td>\n",
       "      <td>False</td>\n",
       "      <td>86</td>\n",
       "      <td>45</td>\n",
       "      <td>0</td>\n",
       "      <td>1</td>\n",
       "    </tr>\n",
       "    <tr>\n",
       "      <th>4</th>\n",
       "      <td>Subaru</td>\n",
       "      <td>Legacy</td>\n",
       "      <td>automatic</td>\n",
       "      <td>BLACK</td>\n",
       "      <td>280000</td>\n",
       "      <td>2001</td>\n",
       "      <td>gasoline</td>\n",
       "      <td>False</td>\n",
       "      <td>gasoline</td>\n",
       "      <td>2.5</td>\n",
       "      <td>...</td>\n",
       "      <td>True</td>\n",
       "      <td>False</td>\n",
       "      <td>False</td>\n",
       "      <td>False</td>\n",
       "      <td>False</td>\n",
       "      <td>True</td>\n",
       "      <td>7</td>\n",
       "      <td>45</td>\n",
       "      <td>0</td>\n",
       "      <td>0</td>\n",
       "    </tr>\n",
       "  </tbody>\n",
       "</table>\n",
       "<p>5 rows × 33 columns</p>\n",
       "</div>"
      ],
      "text/plain": [
       "  manufacturer_name model_name transmission   color  odometer_value  \\\n",
       "0            Subaru    Outback    automatic  SILVER          190000   \n",
       "1            Subaru    Outback    automatic    BLUE          290000   \n",
       "2            Subaru   Forester    automatic     RED          402000   \n",
       "3            Subaru    Impreza   mechanical    BLUE           10000   \n",
       "4            Subaru     Legacy    automatic   BLACK          280000   \n",
       "\n",
       "   year_produced engine_fuel  engine_has_gas engine_type  engine_capacity  \\\n",
       "0           2010    gasoline           False    gasoline              2.5   \n",
       "1           2002    gasoline           False    gasoline              3.0   \n",
       "2           2001    gasoline           False    gasoline              2.5   \n",
       "3           1999    gasoline           False    gasoline              3.0   \n",
       "4           2001    gasoline           False    gasoline              2.5   \n",
       "\n",
       "   ... feature_4  feature_5 feature_6 feature_7  feature_8  feature_9  \\\n",
       "0  ...     False       True     False      True       True       True   \n",
       "1  ...      True       True     False     False      False       True   \n",
       "2  ...     False      False     False     False       True       True   \n",
       "3  ...     False      False     False     False      False      False   \n",
       "4  ...      True      False     False     False      False       True   \n",
       "\n",
       "  duration_listed  manufacturer_code  van_coding  color_code  \n",
       "0              16                 45           0           8  \n",
       "1              83                 45           0           1  \n",
       "2             151                 45           0           7  \n",
       "3              86                 45           0           1  \n",
       "4               7                 45           0           0  \n",
       "\n",
       "[5 rows x 33 columns]"
      ]
     },
     "execution_count": 313,
     "metadata": {},
     "output_type": "execute_result"
    }
   ],
   "source": [
    "cars.head()"
   ]
  },
  {
   "cell_type": "code",
   "execution_count": 315,
   "id": "b0dcb2fe",
   "metadata": {},
   "outputs": [
    {
     "data": {
      "text/html": [
       "<div>\n",
       "<style scoped>\n",
       "    .dataframe tbody tr th:only-of-type {\n",
       "        vertical-align: middle;\n",
       "    }\n",
       "\n",
       "    .dataframe tbody tr th {\n",
       "        vertical-align: top;\n",
       "    }\n",
       "\n",
       "    .dataframe thead th {\n",
       "        text-align: right;\n",
       "    }\n",
       "</style>\n",
       "<table border=\"1\" class=\"dataframe\">\n",
       "  <thead>\n",
       "    <tr style=\"text-align: right;\">\n",
       "      <th></th>\n",
       "      <th>manufacturer_name</th>\n",
       "      <th>model_name</th>\n",
       "      <th>transmission</th>\n",
       "      <th>color</th>\n",
       "      <th>odometer_value</th>\n",
       "      <th>year_produced</th>\n",
       "      <th>engine_fuel</th>\n",
       "      <th>engine_has_gas</th>\n",
       "      <th>engine_type</th>\n",
       "      <th>engine_capacity</th>\n",
       "      <th>...</th>\n",
       "      <th>feature_4</th>\n",
       "      <th>feature_5</th>\n",
       "      <th>feature_6</th>\n",
       "      <th>feature_7</th>\n",
       "      <th>feature_8</th>\n",
       "      <th>feature_9</th>\n",
       "      <th>duration_listed</th>\n",
       "      <th>manufacturer_code</th>\n",
       "      <th>van_coding</th>\n",
       "      <th>color_code</th>\n",
       "    </tr>\n",
       "  </thead>\n",
       "  <tbody>\n",
       "    <tr>\n",
       "      <th>26588</th>\n",
       "      <td>Nissan</td>\n",
       "      <td>Juke</td>\n",
       "      <td>mechanical</td>\n",
       "      <td>SILVER</td>\n",
       "      <td>130000</td>\n",
       "      <td>2011</td>\n",
       "      <td>gasoline</td>\n",
       "      <td>False</td>\n",
       "      <td>gasoline</td>\n",
       "      <td>1.6</td>\n",
       "      <td>...</td>\n",
       "      <td>False</td>\n",
       "      <td>True</td>\n",
       "      <td>False</td>\n",
       "      <td>True</td>\n",
       "      <td>True</td>\n",
       "      <td>True</td>\n",
       "      <td>77</td>\n",
       "      <td>34</td>\n",
       "      <td>0</td>\n",
       "      <td>8</td>\n",
       "    </tr>\n",
       "    <tr>\n",
       "      <th>22225</th>\n",
       "      <td>Toyota</td>\n",
       "      <td>Camry</td>\n",
       "      <td>automatic</td>\n",
       "      <td>OTHER</td>\n",
       "      <td>315431</td>\n",
       "      <td>2004</td>\n",
       "      <td>gasoline</td>\n",
       "      <td>False</td>\n",
       "      <td>gasoline</td>\n",
       "      <td>2.4</td>\n",
       "      <td>...</td>\n",
       "      <td>True</td>\n",
       "      <td>True</td>\n",
       "      <td>False</td>\n",
       "      <td>False</td>\n",
       "      <td>True</td>\n",
       "      <td>False</td>\n",
       "      <td>4</td>\n",
       "      <td>47</td>\n",
       "      <td>0</td>\n",
       "      <td>6</td>\n",
       "    </tr>\n",
       "    <tr>\n",
       "      <th>11720</th>\n",
       "      <td>Ford</td>\n",
       "      <td>Fusion</td>\n",
       "      <td>automatic</td>\n",
       "      <td>BLUE</td>\n",
       "      <td>144000</td>\n",
       "      <td>2014</td>\n",
       "      <td>gasoline</td>\n",
       "      <td>False</td>\n",
       "      <td>gasoline</td>\n",
       "      <td>1.5</td>\n",
       "      <td>...</td>\n",
       "      <td>False</td>\n",
       "      <td>False</td>\n",
       "      <td>True</td>\n",
       "      <td>True</td>\n",
       "      <td>True</td>\n",
       "      <td>True</td>\n",
       "      <td>224</td>\n",
       "      <td>14</td>\n",
       "      <td>0</td>\n",
       "      <td>1</td>\n",
       "    </tr>\n",
       "    <tr>\n",
       "      <th>11038</th>\n",
       "      <td>Ford</td>\n",
       "      <td>Fusion</td>\n",
       "      <td>mechanical</td>\n",
       "      <td>BLUE</td>\n",
       "      <td>247000</td>\n",
       "      <td>2007</td>\n",
       "      <td>diesel</td>\n",
       "      <td>False</td>\n",
       "      <td>diesel</td>\n",
       "      <td>1.4</td>\n",
       "      <td>...</td>\n",
       "      <td>False</td>\n",
       "      <td>False</td>\n",
       "      <td>False</td>\n",
       "      <td>False</td>\n",
       "      <td>False</td>\n",
       "      <td>True</td>\n",
       "      <td>113</td>\n",
       "      <td>14</td>\n",
       "      <td>0</td>\n",
       "      <td>1</td>\n",
       "    </tr>\n",
       "    <tr>\n",
       "      <th>6804</th>\n",
       "      <td>Citroen</td>\n",
       "      <td>Xantia</td>\n",
       "      <td>mechanical</td>\n",
       "      <td>GREEN</td>\n",
       "      <td>290000</td>\n",
       "      <td>1999</td>\n",
       "      <td>gasoline</td>\n",
       "      <td>False</td>\n",
       "      <td>gasoline</td>\n",
       "      <td>1.8</td>\n",
       "      <td>...</td>\n",
       "      <td>False</td>\n",
       "      <td>True</td>\n",
       "      <td>False</td>\n",
       "      <td>False</td>\n",
       "      <td>False</td>\n",
       "      <td>False</td>\n",
       "      <td>42</td>\n",
       "      <td>9</td>\n",
       "      <td>0</td>\n",
       "      <td>3</td>\n",
       "    </tr>\n",
       "  </tbody>\n",
       "</table>\n",
       "<p>5 rows × 33 columns</p>\n",
       "</div>"
      ],
      "text/plain": [
       "      manufacturer_name model_name transmission   color  odometer_value  \\\n",
       "26588            Nissan       Juke   mechanical  SILVER          130000   \n",
       "22225            Toyota      Camry    automatic   OTHER          315431   \n",
       "11720              Ford     Fusion    automatic    BLUE          144000   \n",
       "11038              Ford     Fusion   mechanical    BLUE          247000   \n",
       "6804            Citroen     Xantia   mechanical   GREEN          290000   \n",
       "\n",
       "       year_produced engine_fuel  engine_has_gas engine_type  engine_capacity  \\\n",
       "26588           2011    gasoline           False    gasoline              1.6   \n",
       "22225           2004    gasoline           False    gasoline              2.4   \n",
       "11720           2014    gasoline           False    gasoline              1.5   \n",
       "11038           2007      diesel           False      diesel              1.4   \n",
       "6804            1999    gasoline           False    gasoline              1.8   \n",
       "\n",
       "       ... feature_4  feature_5 feature_6 feature_7  feature_8  feature_9  \\\n",
       "26588  ...     False       True     False      True       True       True   \n",
       "22225  ...      True       True     False     False       True      False   \n",
       "11720  ...     False      False      True      True       True       True   \n",
       "11038  ...     False      False     False     False      False       True   \n",
       "6804   ...     False       True     False     False      False      False   \n",
       "\n",
       "      duration_listed  manufacturer_code  van_coding  color_code  \n",
       "26588              77                 34           0           8  \n",
       "22225               4                 47           0           6  \n",
       "11720             224                 14           0           1  \n",
       "11038             113                 14           0           1  \n",
       "6804               42                  9           0           3  \n",
       "\n",
       "[5 rows x 33 columns]"
      ]
     },
     "execution_count": 315,
     "metadata": {},
     "output_type": "execute_result"
    }
   ],
   "source": [
    "cars_sub = cars.sample(n =100)\n",
    "cars_sub.head()"
   ]
  },
  {
   "cell_type": "code",
   "execution_count": 316,
   "id": "1cc42071",
   "metadata": {},
   "outputs": [
    {
     "name": "stdout",
     "output_type": "stream",
     "text": [
      "Volkswagen       4243\n",
      "Opel             2759\n",
      "BMW              2610\n",
      "Ford             2566\n",
      "Renault          2493\n",
      "Audi             2468\n",
      "Mercedes-Benz    2237\n",
      "Peugeot          1909\n",
      "Citroen          1562\n",
      "Nissan           1361\n",
      "Mazda            1328\n",
      "Toyota           1246\n",
      "Hyundai          1116\n",
      "Skoda            1089\n",
      "Kia               912\n",
      "Mitsubishi        887\n",
      "Fiat              824\n",
      "Honda             797\n",
      "Volvo             721\n",
      "ВАЗ               481\n",
      "Chevrolet         436\n",
      "Chrysler          410\n",
      "Seat              303\n",
      "Dodge             297\n",
      "Subaru            291\n",
      "Rover             235\n",
      "Suzuki            234\n",
      "Daewoo            221\n",
      "Lexus             213\n",
      "Alfa Romeo        207\n",
      "ГАЗ               200\n",
      "Land Rover        184\n",
      "Infiniti          162\n",
      "LADA              146\n",
      "Iveco             139\n",
      "Saab              108\n",
      "Jeep              107\n",
      "Lancia             92\n",
      "SsangYong          79\n",
      "УАЗ                74\n",
      "Geely              71\n",
      "Mini               68\n",
      "Acura              66\n",
      "Porsche            61\n",
      "Dacia              59\n",
      "Chery              58\n",
      "Москвич            55\n",
      "Jaguar             53\n",
      "Lifan              47\n",
      "Buick              47\n",
      "Cadillac           43\n",
      "Pontiac            42\n",
      "ЗАЗ                42\n",
      "Lincoln            36\n",
      "Great Wall         36\n",
      "Name: manufacturer_name, dtype: int64\n"
     ]
    }
   ],
   "source": [
    "# Print the manufacturer name frequency table\n",
    "print(cars['manufacturer_name'].value_counts())"
   ]
  },
  {
   "cell_type": "code",
   "execution_count": 317,
   "id": "f82b5d1b",
   "metadata": {},
   "outputs": [],
   "source": [
    "# Create a Boolean column based on if the manufacturer name that contain Volkswagen\n",
    "cars[\"is_volkswagen\"] = np.where(cars[\"manufacturer_name\"].str.contains('Volkswagen', regex=False), True, False\n",
    ")"
   ]
  },
  {
   "cell_type": "code",
   "execution_count": 319,
   "id": "c6feaab5",
   "metadata": {},
   "outputs": [
    {
     "name": "stdout",
     "output_type": "stream",
     "text": [
      "Volkswagen       4243\n",
      "Opel             2759\n",
      "BMW              2610\n",
      "Ford             2566\n",
      "Renault          2493\n",
      "Audi             2468\n",
      "Mercedes-Benz    2237\n",
      "Peugeot          1909\n",
      "Citroen          1562\n",
      "Nissan           1361\n",
      "Mazda            1328\n",
      "Toyota           1246\n",
      "Hyundai          1116\n",
      "Skoda            1089\n",
      "Kia               912\n",
      "Mitsubishi        887\n",
      "Fiat              824\n",
      "Honda             797\n",
      "Volvo             721\n",
      "ВАЗ               481\n",
      "Chevrolet         436\n",
      "Chrysler          410\n",
      "Seat              303\n",
      "Dodge             297\n",
      "Subaru            291\n",
      "Rover             235\n",
      "Suzuki            234\n",
      "Daewoo            221\n",
      "Lexus             213\n",
      "Alfa Romeo        207\n",
      "ГАЗ               200\n",
      "Land Rover        184\n",
      "Infiniti          162\n",
      "LADA              146\n",
      "Iveco             139\n",
      "Saab              108\n",
      "Jeep              107\n",
      "Lancia             92\n",
      "SsangYong          79\n",
      "УАЗ                74\n",
      "Geely              71\n",
      "Mini               68\n",
      "Acura              66\n",
      "Porsche            61\n",
      "Dacia              59\n",
      "Chery              58\n",
      "Москвич            55\n",
      "Jaguar             53\n",
      "Lifan              47\n",
      "Buick              47\n",
      "Cadillac           43\n",
      "Pontiac            42\n",
      "ЗАЗ                42\n",
      "Lincoln            36\n",
      "Great Wall         36\n",
      "Name: manufacturer_name, dtype: int64\n"
     ]
    }
   ],
   "source": [
    "# update the code\n",
    "# Create a Boolean column for the most common manufacturer name\n",
    "cars[\"is_volkswagen\"] = np.where(cars[\"manufacturer_name\"].str.contains(\"Volkswagen\", regex=False), 1, 0\n",
    ")\n",
    "  \n",
    "# Check the final frequency table\n",
    "print(cars['manufacturer_name'].value_counts())"
   ]
  },
  {
   "cell_type": "code",
   "execution_count": 320,
   "id": "603cea29",
   "metadata": {},
   "outputs": [
    {
     "name": "stdout",
     "output_type": "stream",
     "text": [
      "0    34288\n",
      "1     4243\n",
      "Name: is_volkswagen, dtype: int64\n"
     ]
    }
   ],
   "source": [
    "# Check the final frequency table\n",
    "print(cars['is_volkswagen'].value_counts())"
   ]
  },
  {
   "cell_type": "code",
   "execution_count": null,
   "id": "94930e4f",
   "metadata": {},
   "outputs": [],
   "source": []
  },
  {
   "cell_type": "code",
   "execution_count": null,
   "id": "449e6634",
   "metadata": {},
   "outputs": [],
   "source": []
  },
  {
   "cell_type": "code",
   "execution_count": null,
   "id": "b4b5dfdf",
   "metadata": {},
   "outputs": [],
   "source": []
  },
  {
   "cell_type": "code",
   "execution_count": null,
   "id": "2e7365b2",
   "metadata": {},
   "outputs": [],
   "source": []
  },
  {
   "cell_type": "code",
   "execution_count": null,
   "id": "1e600b51",
   "metadata": {},
   "outputs": [],
   "source": []
  },
  {
   "cell_type": "code",
   "execution_count": null,
   "id": "bee7869b",
   "metadata": {},
   "outputs": [],
   "source": []
  },
  {
   "cell_type": "code",
   "execution_count": null,
   "id": "9b91f64d",
   "metadata": {},
   "outputs": [],
   "source": []
  },
  {
   "cell_type": "code",
   "execution_count": null,
   "id": "69009d3d",
   "metadata": {},
   "outputs": [],
   "source": []
  },
  {
   "cell_type": "code",
   "execution_count": null,
   "id": "8b3ee699",
   "metadata": {},
   "outputs": [],
   "source": []
  },
  {
   "cell_type": "code",
   "execution_count": null,
   "id": "0869132f",
   "metadata": {},
   "outputs": [],
   "source": []
  },
  {
   "cell_type": "code",
   "execution_count": null,
   "id": "3c7b587c",
   "metadata": {},
   "outputs": [],
   "source": []
  },
  {
   "cell_type": "code",
   "execution_count": null,
   "id": "713fa4a0",
   "metadata": {},
   "outputs": [],
   "source": []
  },
  {
   "cell_type": "code",
   "execution_count": null,
   "id": "4250a25a",
   "metadata": {},
   "outputs": [],
   "source": []
  },
  {
   "cell_type": "code",
   "execution_count": null,
   "id": "2d2d77e8",
   "metadata": {},
   "outputs": [],
   "source": []
  },
  {
   "cell_type": "code",
   "execution_count": null,
   "id": "33b351fe",
   "metadata": {},
   "outputs": [],
   "source": []
  },
  {
   "cell_type": "code",
   "execution_count": null,
   "id": "874749a8",
   "metadata": {},
   "outputs": [],
   "source": []
  },
  {
   "cell_type": "code",
   "execution_count": null,
   "id": "220dfecf",
   "metadata": {},
   "outputs": [],
   "source": []
  },
  {
   "cell_type": "code",
   "execution_count": null,
   "id": "d1b8cda3",
   "metadata": {},
   "outputs": [],
   "source": []
  },
  {
   "cell_type": "code",
   "execution_count": null,
   "id": "0871110b",
   "metadata": {},
   "outputs": [],
   "source": []
  },
  {
   "cell_type": "code",
   "execution_count": null,
   "id": "4c9c386b",
   "metadata": {},
   "outputs": [],
   "source": []
  },
  {
   "cell_type": "code",
   "execution_count": null,
   "id": "2dfca49f",
   "metadata": {},
   "outputs": [],
   "source": []
  },
  {
   "cell_type": "code",
   "execution_count": null,
   "id": "8eff5fcb",
   "metadata": {},
   "outputs": [],
   "source": []
  },
  {
   "cell_type": "code",
   "execution_count": null,
   "id": "a5bca657",
   "metadata": {},
   "outputs": [],
   "source": []
  },
  {
   "cell_type": "code",
   "execution_count": null,
   "id": "d76e0707",
   "metadata": {},
   "outputs": [],
   "source": []
  },
  {
   "cell_type": "code",
   "execution_count": null,
   "id": "b2d1ad9f",
   "metadata": {},
   "outputs": [],
   "source": []
  },
  {
   "cell_type": "code",
   "execution_count": null,
   "id": "5e083bcf",
   "metadata": {},
   "outputs": [],
   "source": []
  },
  {
   "cell_type": "code",
   "execution_count": null,
   "id": "0af6cff9",
   "metadata": {},
   "outputs": [],
   "source": []
  },
  {
   "cell_type": "code",
   "execution_count": null,
   "id": "b1dac623",
   "metadata": {},
   "outputs": [],
   "source": []
  },
  {
   "cell_type": "code",
   "execution_count": null,
   "id": "a2f55515",
   "metadata": {},
   "outputs": [],
   "source": []
  },
  {
   "cell_type": "code",
   "execution_count": null,
   "id": "581d40c8",
   "metadata": {},
   "outputs": [],
   "source": []
  },
  {
   "cell_type": "code",
   "execution_count": null,
   "id": "d02c059e",
   "metadata": {},
   "outputs": [],
   "source": []
  },
  {
   "cell_type": "code",
   "execution_count": null,
   "id": "7408f0ac",
   "metadata": {},
   "outputs": [],
   "source": []
  },
  {
   "cell_type": "code",
   "execution_count": null,
   "id": "4bedd65e",
   "metadata": {},
   "outputs": [],
   "source": []
  },
  {
   "cell_type": "code",
   "execution_count": null,
   "id": "f0272add",
   "metadata": {},
   "outputs": [],
   "source": []
  },
  {
   "cell_type": "code",
   "execution_count": null,
   "id": "f62da7ae",
   "metadata": {},
   "outputs": [],
   "source": []
  },
  {
   "cell_type": "code",
   "execution_count": null,
   "id": "416b0131",
   "metadata": {},
   "outputs": [],
   "source": []
  },
  {
   "cell_type": "code",
   "execution_count": null,
   "id": "d86ee97c",
   "metadata": {},
   "outputs": [],
   "source": []
  },
  {
   "cell_type": "code",
   "execution_count": null,
   "id": "6582775c",
   "metadata": {},
   "outputs": [],
   "source": []
  },
  {
   "cell_type": "code",
   "execution_count": null,
   "id": "12d30092",
   "metadata": {},
   "outputs": [],
   "source": []
  },
  {
   "cell_type": "code",
   "execution_count": null,
   "id": "3a8c2841",
   "metadata": {},
   "outputs": [],
   "source": []
  },
  {
   "cell_type": "code",
   "execution_count": null,
   "id": "c4e7cc91",
   "metadata": {},
   "outputs": [],
   "source": []
  },
  {
   "cell_type": "code",
   "execution_count": null,
   "id": "836d0c52",
   "metadata": {},
   "outputs": [],
   "source": []
  },
  {
   "cell_type": "code",
   "execution_count": null,
   "id": "161137b8",
   "metadata": {},
   "outputs": [],
   "source": []
  },
  {
   "cell_type": "code",
   "execution_count": null,
   "id": "dfa1733a",
   "metadata": {},
   "outputs": [],
   "source": []
  },
  {
   "cell_type": "code",
   "execution_count": null,
   "id": "908ae8a1",
   "metadata": {},
   "outputs": [],
   "source": []
  }
 ],
 "metadata": {
  "kernelspec": {
   "display_name": "Python 3 (ipykernel)",
   "language": "python",
   "name": "python3"
  },
  "language_info": {
   "codemirror_mode": {
    "name": "ipython",
    "version": 3
   },
   "file_extension": ".py",
   "mimetype": "text/x-python",
   "name": "python",
   "nbconvert_exporter": "python",
   "pygments_lexer": "ipython3",
   "version": "3.9.13"
  }
 },
 "nbformat": 4,
 "nbformat_minor": 5
}
